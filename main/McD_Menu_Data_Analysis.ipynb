{
  "nbformat": 4,
  "nbformat_minor": 0,
  "metadata": {
    "colab": {
      "name": "McD Menu Data Analysis.ipynb",
      "provenance": [],
      "collapsed_sections": [],
      "toc_visible": true,
      "include_colab_link": true
    },
    "kernelspec": {
      "name": "python3",
      "display_name": "Python 3"
    },
    "language_info": {
      "name": "python"
    },
    "widgets": {
      "application/vnd.jupyter.widget-state+json": {
        "3879cb8ddae24c2fa527a04080d9d778": {
          "model_module": "@jupyter-widgets/controls",
          "model_name": "HBoxModel",
          "state": {
            "_view_name": "HBoxView",
            "_dom_classes": [],
            "_model_name": "HBoxModel",
            "_view_module": "@jupyter-widgets/controls",
            "_model_module_version": "1.5.0",
            "_view_count": null,
            "_view_module_version": "1.5.0",
            "box_style": "",
            "layout": "IPY_MODEL_1877dba193f74ed580959eb76a5687bc",
            "_model_module": "@jupyter-widgets/controls",
            "children": [
              "IPY_MODEL_5fe282250fef46a5a02c2b90a1f5d854",
              "IPY_MODEL_ffac3cbbed1845cd99669cbb08fbc3d6",
              "IPY_MODEL_5eec896bc95f45848537c388ce0d15e9"
            ]
          }
        },
        "1877dba193f74ed580959eb76a5687bc": {
          "model_module": "@jupyter-widgets/base",
          "model_name": "LayoutModel",
          "state": {
            "_view_name": "LayoutView",
            "grid_template_rows": null,
            "right": null,
            "justify_content": null,
            "_view_module": "@jupyter-widgets/base",
            "overflow": null,
            "_model_module_version": "1.2.0",
            "_view_count": null,
            "flex_flow": null,
            "width": null,
            "min_width": null,
            "border": null,
            "align_items": null,
            "bottom": null,
            "_model_module": "@jupyter-widgets/base",
            "top": null,
            "grid_column": null,
            "overflow_y": null,
            "overflow_x": null,
            "grid_auto_flow": null,
            "grid_area": null,
            "grid_template_columns": null,
            "flex": null,
            "_model_name": "LayoutModel",
            "justify_items": null,
            "grid_row": null,
            "max_height": null,
            "align_content": null,
            "visibility": null,
            "align_self": null,
            "height": null,
            "min_height": null,
            "padding": null,
            "grid_auto_rows": null,
            "grid_gap": null,
            "max_width": null,
            "order": null,
            "_view_module_version": "1.2.0",
            "grid_template_areas": null,
            "object_position": null,
            "object_fit": null,
            "grid_auto_columns": null,
            "margin": null,
            "display": null,
            "left": null
          }
        },
        "5fe282250fef46a5a02c2b90a1f5d854": {
          "model_module": "@jupyter-widgets/controls",
          "model_name": "HTMLModel",
          "state": {
            "_view_name": "HTMLView",
            "style": "IPY_MODEL_929ee0fcbf054fdb8bb2a16fd4e6ba7b",
            "_dom_classes": [],
            "description": "",
            "_model_name": "HTMLModel",
            "placeholder": "​",
            "_view_module": "@jupyter-widgets/controls",
            "_model_module_version": "1.5.0",
            "value": "Summarize dataset: 100%",
            "_view_count": null,
            "_view_module_version": "1.5.0",
            "description_tooltip": null,
            "_model_module": "@jupyter-widgets/controls",
            "layout": "IPY_MODEL_8f1380f7d67c421a943803bd2e772b10"
          }
        },
        "ffac3cbbed1845cd99669cbb08fbc3d6": {
          "model_module": "@jupyter-widgets/controls",
          "model_name": "FloatProgressModel",
          "state": {
            "_view_name": "ProgressView",
            "style": "IPY_MODEL_a33b877b77e7483395be3c31d4f0a279",
            "_dom_classes": [],
            "description": "",
            "_model_name": "FloatProgressModel",
            "bar_style": "success",
            "max": 38,
            "_view_module": "@jupyter-widgets/controls",
            "_model_module_version": "1.5.0",
            "value": 38,
            "_view_count": null,
            "_view_module_version": "1.5.0",
            "orientation": "horizontal",
            "min": 0,
            "description_tooltip": null,
            "_model_module": "@jupyter-widgets/controls",
            "layout": "IPY_MODEL_d43dde98e073471a968b06f50afa8203"
          }
        },
        "5eec896bc95f45848537c388ce0d15e9": {
          "model_module": "@jupyter-widgets/controls",
          "model_name": "HTMLModel",
          "state": {
            "_view_name": "HTMLView",
            "style": "IPY_MODEL_16271717fa2f425489a2acc36dddb0df",
            "_dom_classes": [],
            "description": "",
            "_model_name": "HTMLModel",
            "placeholder": "​",
            "_view_module": "@jupyter-widgets/controls",
            "_model_module_version": "1.5.0",
            "value": " 38/38 [01:18&lt;00:00,  4.64s/it, Completed]",
            "_view_count": null,
            "_view_module_version": "1.5.0",
            "description_tooltip": null,
            "_model_module": "@jupyter-widgets/controls",
            "layout": "IPY_MODEL_45675f69ab1c4626bbd110ebe8e01e43"
          }
        },
        "929ee0fcbf054fdb8bb2a16fd4e6ba7b": {
          "model_module": "@jupyter-widgets/controls",
          "model_name": "DescriptionStyleModel",
          "state": {
            "_view_name": "StyleView",
            "_model_name": "DescriptionStyleModel",
            "description_width": "",
            "_view_module": "@jupyter-widgets/base",
            "_model_module_version": "1.5.0",
            "_view_count": null,
            "_view_module_version": "1.2.0",
            "_model_module": "@jupyter-widgets/controls"
          }
        },
        "8f1380f7d67c421a943803bd2e772b10": {
          "model_module": "@jupyter-widgets/base",
          "model_name": "LayoutModel",
          "state": {
            "_view_name": "LayoutView",
            "grid_template_rows": null,
            "right": null,
            "justify_content": null,
            "_view_module": "@jupyter-widgets/base",
            "overflow": null,
            "_model_module_version": "1.2.0",
            "_view_count": null,
            "flex_flow": null,
            "width": null,
            "min_width": null,
            "border": null,
            "align_items": null,
            "bottom": null,
            "_model_module": "@jupyter-widgets/base",
            "top": null,
            "grid_column": null,
            "overflow_y": null,
            "overflow_x": null,
            "grid_auto_flow": null,
            "grid_area": null,
            "grid_template_columns": null,
            "flex": null,
            "_model_name": "LayoutModel",
            "justify_items": null,
            "grid_row": null,
            "max_height": null,
            "align_content": null,
            "visibility": null,
            "align_self": null,
            "height": null,
            "min_height": null,
            "padding": null,
            "grid_auto_rows": null,
            "grid_gap": null,
            "max_width": null,
            "order": null,
            "_view_module_version": "1.2.0",
            "grid_template_areas": null,
            "object_position": null,
            "object_fit": null,
            "grid_auto_columns": null,
            "margin": null,
            "display": null,
            "left": null
          }
        },
        "a33b877b77e7483395be3c31d4f0a279": {
          "model_module": "@jupyter-widgets/controls",
          "model_name": "ProgressStyleModel",
          "state": {
            "_view_name": "StyleView",
            "_model_name": "ProgressStyleModel",
            "description_width": "",
            "_view_module": "@jupyter-widgets/base",
            "_model_module_version": "1.5.0",
            "_view_count": null,
            "_view_module_version": "1.2.0",
            "bar_color": null,
            "_model_module": "@jupyter-widgets/controls"
          }
        },
        "d43dde98e073471a968b06f50afa8203": {
          "model_module": "@jupyter-widgets/base",
          "model_name": "LayoutModel",
          "state": {
            "_view_name": "LayoutView",
            "grid_template_rows": null,
            "right": null,
            "justify_content": null,
            "_view_module": "@jupyter-widgets/base",
            "overflow": null,
            "_model_module_version": "1.2.0",
            "_view_count": null,
            "flex_flow": null,
            "width": null,
            "min_width": null,
            "border": null,
            "align_items": null,
            "bottom": null,
            "_model_module": "@jupyter-widgets/base",
            "top": null,
            "grid_column": null,
            "overflow_y": null,
            "overflow_x": null,
            "grid_auto_flow": null,
            "grid_area": null,
            "grid_template_columns": null,
            "flex": null,
            "_model_name": "LayoutModel",
            "justify_items": null,
            "grid_row": null,
            "max_height": null,
            "align_content": null,
            "visibility": null,
            "align_self": null,
            "height": null,
            "min_height": null,
            "padding": null,
            "grid_auto_rows": null,
            "grid_gap": null,
            "max_width": null,
            "order": null,
            "_view_module_version": "1.2.0",
            "grid_template_areas": null,
            "object_position": null,
            "object_fit": null,
            "grid_auto_columns": null,
            "margin": null,
            "display": null,
            "left": null
          }
        },
        "16271717fa2f425489a2acc36dddb0df": {
          "model_module": "@jupyter-widgets/controls",
          "model_name": "DescriptionStyleModel",
          "state": {
            "_view_name": "StyleView",
            "_model_name": "DescriptionStyleModel",
            "description_width": "",
            "_view_module": "@jupyter-widgets/base",
            "_model_module_version": "1.5.0",
            "_view_count": null,
            "_view_module_version": "1.2.0",
            "_model_module": "@jupyter-widgets/controls"
          }
        },
        "45675f69ab1c4626bbd110ebe8e01e43": {
          "model_module": "@jupyter-widgets/base",
          "model_name": "LayoutModel",
          "state": {
            "_view_name": "LayoutView",
            "grid_template_rows": null,
            "right": null,
            "justify_content": null,
            "_view_module": "@jupyter-widgets/base",
            "overflow": null,
            "_model_module_version": "1.2.0",
            "_view_count": null,
            "flex_flow": null,
            "width": null,
            "min_width": null,
            "border": null,
            "align_items": null,
            "bottom": null,
            "_model_module": "@jupyter-widgets/base",
            "top": null,
            "grid_column": null,
            "overflow_y": null,
            "overflow_x": null,
            "grid_auto_flow": null,
            "grid_area": null,
            "grid_template_columns": null,
            "flex": null,
            "_model_name": "LayoutModel",
            "justify_items": null,
            "grid_row": null,
            "max_height": null,
            "align_content": null,
            "visibility": null,
            "align_self": null,
            "height": null,
            "min_height": null,
            "padding": null,
            "grid_auto_rows": null,
            "grid_gap": null,
            "max_width": null,
            "order": null,
            "_view_module_version": "1.2.0",
            "grid_template_areas": null,
            "object_position": null,
            "object_fit": null,
            "grid_auto_columns": null,
            "margin": null,
            "display": null,
            "left": null
          }
        },
        "963ee8b401f44e339016fd6b45552336": {
          "model_module": "@jupyter-widgets/controls",
          "model_name": "HBoxModel",
          "state": {
            "_view_name": "HBoxView",
            "_dom_classes": [],
            "_model_name": "HBoxModel",
            "_view_module": "@jupyter-widgets/controls",
            "_model_module_version": "1.5.0",
            "_view_count": null,
            "_view_module_version": "1.5.0",
            "box_style": "",
            "layout": "IPY_MODEL_b5f98660ab3f4848b16d429f5e2cbda5",
            "_model_module": "@jupyter-widgets/controls",
            "children": [
              "IPY_MODEL_3700de052eb743d3a28724329ccb5959",
              "IPY_MODEL_ff4370c24337401bb2b83117414fd870",
              "IPY_MODEL_9f3b0662e0fe4192990cc5a8906087a4"
            ]
          }
        },
        "b5f98660ab3f4848b16d429f5e2cbda5": {
          "model_module": "@jupyter-widgets/base",
          "model_name": "LayoutModel",
          "state": {
            "_view_name": "LayoutView",
            "grid_template_rows": null,
            "right": null,
            "justify_content": null,
            "_view_module": "@jupyter-widgets/base",
            "overflow": null,
            "_model_module_version": "1.2.0",
            "_view_count": null,
            "flex_flow": null,
            "width": null,
            "min_width": null,
            "border": null,
            "align_items": null,
            "bottom": null,
            "_model_module": "@jupyter-widgets/base",
            "top": null,
            "grid_column": null,
            "overflow_y": null,
            "overflow_x": null,
            "grid_auto_flow": null,
            "grid_area": null,
            "grid_template_columns": null,
            "flex": null,
            "_model_name": "LayoutModel",
            "justify_items": null,
            "grid_row": null,
            "max_height": null,
            "align_content": null,
            "visibility": null,
            "align_self": null,
            "height": null,
            "min_height": null,
            "padding": null,
            "grid_auto_rows": null,
            "grid_gap": null,
            "max_width": null,
            "order": null,
            "_view_module_version": "1.2.0",
            "grid_template_areas": null,
            "object_position": null,
            "object_fit": null,
            "grid_auto_columns": null,
            "margin": null,
            "display": null,
            "left": null
          }
        },
        "3700de052eb743d3a28724329ccb5959": {
          "model_module": "@jupyter-widgets/controls",
          "model_name": "HTMLModel",
          "state": {
            "_view_name": "HTMLView",
            "style": "IPY_MODEL_4172b1f325e3470787170a44c14de714",
            "_dom_classes": [],
            "description": "",
            "_model_name": "HTMLModel",
            "placeholder": "​",
            "_view_module": "@jupyter-widgets/controls",
            "_model_module_version": "1.5.0",
            "value": "Generate report structure: 100%",
            "_view_count": null,
            "_view_module_version": "1.5.0",
            "description_tooltip": null,
            "_model_module": "@jupyter-widgets/controls",
            "layout": "IPY_MODEL_9d6aaa164c3d4436a7f5493552ea06ad"
          }
        },
        "ff4370c24337401bb2b83117414fd870": {
          "model_module": "@jupyter-widgets/controls",
          "model_name": "FloatProgressModel",
          "state": {
            "_view_name": "ProgressView",
            "style": "IPY_MODEL_99d1f8f27d604a579f96b79a74e2d62e",
            "_dom_classes": [],
            "description": "",
            "_model_name": "FloatProgressModel",
            "bar_style": "success",
            "max": 1,
            "_view_module": "@jupyter-widgets/controls",
            "_model_module_version": "1.5.0",
            "value": 1,
            "_view_count": null,
            "_view_module_version": "1.5.0",
            "orientation": "horizontal",
            "min": 0,
            "description_tooltip": null,
            "_model_module": "@jupyter-widgets/controls",
            "layout": "IPY_MODEL_1ec06cc902c94d779b36cf2e98f38965"
          }
        },
        "9f3b0662e0fe4192990cc5a8906087a4": {
          "model_module": "@jupyter-widgets/controls",
          "model_name": "HTMLModel",
          "state": {
            "_view_name": "HTMLView",
            "style": "IPY_MODEL_dff218e13b164c7992baa7bcf4a9e158",
            "_dom_classes": [],
            "description": "",
            "_model_name": "HTMLModel",
            "placeholder": "​",
            "_view_module": "@jupyter-widgets/controls",
            "_model_module_version": "1.5.0",
            "value": " 1/1 [00:11&lt;00:00, 11.53s/it]",
            "_view_count": null,
            "_view_module_version": "1.5.0",
            "description_tooltip": null,
            "_model_module": "@jupyter-widgets/controls",
            "layout": "IPY_MODEL_d53261870bc14f4eb36bb66c86a4621a"
          }
        },
        "4172b1f325e3470787170a44c14de714": {
          "model_module": "@jupyter-widgets/controls",
          "model_name": "DescriptionStyleModel",
          "state": {
            "_view_name": "StyleView",
            "_model_name": "DescriptionStyleModel",
            "description_width": "",
            "_view_module": "@jupyter-widgets/base",
            "_model_module_version": "1.5.0",
            "_view_count": null,
            "_view_module_version": "1.2.0",
            "_model_module": "@jupyter-widgets/controls"
          }
        },
        "9d6aaa164c3d4436a7f5493552ea06ad": {
          "model_module": "@jupyter-widgets/base",
          "model_name": "LayoutModel",
          "state": {
            "_view_name": "LayoutView",
            "grid_template_rows": null,
            "right": null,
            "justify_content": null,
            "_view_module": "@jupyter-widgets/base",
            "overflow": null,
            "_model_module_version": "1.2.0",
            "_view_count": null,
            "flex_flow": null,
            "width": null,
            "min_width": null,
            "border": null,
            "align_items": null,
            "bottom": null,
            "_model_module": "@jupyter-widgets/base",
            "top": null,
            "grid_column": null,
            "overflow_y": null,
            "overflow_x": null,
            "grid_auto_flow": null,
            "grid_area": null,
            "grid_template_columns": null,
            "flex": null,
            "_model_name": "LayoutModel",
            "justify_items": null,
            "grid_row": null,
            "max_height": null,
            "align_content": null,
            "visibility": null,
            "align_self": null,
            "height": null,
            "min_height": null,
            "padding": null,
            "grid_auto_rows": null,
            "grid_gap": null,
            "max_width": null,
            "order": null,
            "_view_module_version": "1.2.0",
            "grid_template_areas": null,
            "object_position": null,
            "object_fit": null,
            "grid_auto_columns": null,
            "margin": null,
            "display": null,
            "left": null
          }
        },
        "99d1f8f27d604a579f96b79a74e2d62e": {
          "model_module": "@jupyter-widgets/controls",
          "model_name": "ProgressStyleModel",
          "state": {
            "_view_name": "StyleView",
            "_model_name": "ProgressStyleModel",
            "description_width": "",
            "_view_module": "@jupyter-widgets/base",
            "_model_module_version": "1.5.0",
            "_view_count": null,
            "_view_module_version": "1.2.0",
            "bar_color": null,
            "_model_module": "@jupyter-widgets/controls"
          }
        },
        "1ec06cc902c94d779b36cf2e98f38965": {
          "model_module": "@jupyter-widgets/base",
          "model_name": "LayoutModel",
          "state": {
            "_view_name": "LayoutView",
            "grid_template_rows": null,
            "right": null,
            "justify_content": null,
            "_view_module": "@jupyter-widgets/base",
            "overflow": null,
            "_model_module_version": "1.2.0",
            "_view_count": null,
            "flex_flow": null,
            "width": null,
            "min_width": null,
            "border": null,
            "align_items": null,
            "bottom": null,
            "_model_module": "@jupyter-widgets/base",
            "top": null,
            "grid_column": null,
            "overflow_y": null,
            "overflow_x": null,
            "grid_auto_flow": null,
            "grid_area": null,
            "grid_template_columns": null,
            "flex": null,
            "_model_name": "LayoutModel",
            "justify_items": null,
            "grid_row": null,
            "max_height": null,
            "align_content": null,
            "visibility": null,
            "align_self": null,
            "height": null,
            "min_height": null,
            "padding": null,
            "grid_auto_rows": null,
            "grid_gap": null,
            "max_width": null,
            "order": null,
            "_view_module_version": "1.2.0",
            "grid_template_areas": null,
            "object_position": null,
            "object_fit": null,
            "grid_auto_columns": null,
            "margin": null,
            "display": null,
            "left": null
          }
        },
        "dff218e13b164c7992baa7bcf4a9e158": {
          "model_module": "@jupyter-widgets/controls",
          "model_name": "DescriptionStyleModel",
          "state": {
            "_view_name": "StyleView",
            "_model_name": "DescriptionStyleModel",
            "description_width": "",
            "_view_module": "@jupyter-widgets/base",
            "_model_module_version": "1.5.0",
            "_view_count": null,
            "_view_module_version": "1.2.0",
            "_model_module": "@jupyter-widgets/controls"
          }
        },
        "d53261870bc14f4eb36bb66c86a4621a": {
          "model_module": "@jupyter-widgets/base",
          "model_name": "LayoutModel",
          "state": {
            "_view_name": "LayoutView",
            "grid_template_rows": null,
            "right": null,
            "justify_content": null,
            "_view_module": "@jupyter-widgets/base",
            "overflow": null,
            "_model_module_version": "1.2.0",
            "_view_count": null,
            "flex_flow": null,
            "width": null,
            "min_width": null,
            "border": null,
            "align_items": null,
            "bottom": null,
            "_model_module": "@jupyter-widgets/base",
            "top": null,
            "grid_column": null,
            "overflow_y": null,
            "overflow_x": null,
            "grid_auto_flow": null,
            "grid_area": null,
            "grid_template_columns": null,
            "flex": null,
            "_model_name": "LayoutModel",
            "justify_items": null,
            "grid_row": null,
            "max_height": null,
            "align_content": null,
            "visibility": null,
            "align_self": null,
            "height": null,
            "min_height": null,
            "padding": null,
            "grid_auto_rows": null,
            "grid_gap": null,
            "max_width": null,
            "order": null,
            "_view_module_version": "1.2.0",
            "grid_template_areas": null,
            "object_position": null,
            "object_fit": null,
            "grid_auto_columns": null,
            "margin": null,
            "display": null,
            "left": null
          }
        },
        "04ef045cb5294990a0ea6bdc10ba1925": {
          "model_module": "@jupyter-widgets/controls",
          "model_name": "HBoxModel",
          "state": {
            "_view_name": "HBoxView",
            "_dom_classes": [],
            "_model_name": "HBoxModel",
            "_view_module": "@jupyter-widgets/controls",
            "_model_module_version": "1.5.0",
            "_view_count": null,
            "_view_module_version": "1.5.0",
            "box_style": "",
            "layout": "IPY_MODEL_6f04f926f403484dbdeb6b50e1e1486a",
            "_model_module": "@jupyter-widgets/controls",
            "children": [
              "IPY_MODEL_76091ee6d7c74f6abc294f684b34a426",
              "IPY_MODEL_1ee677393acb4e75a7d5c946ddcb0d8f",
              "IPY_MODEL_014be6602cc94994b90819434073d2a1"
            ]
          }
        },
        "6f04f926f403484dbdeb6b50e1e1486a": {
          "model_module": "@jupyter-widgets/base",
          "model_name": "LayoutModel",
          "state": {
            "_view_name": "LayoutView",
            "grid_template_rows": null,
            "right": null,
            "justify_content": null,
            "_view_module": "@jupyter-widgets/base",
            "overflow": null,
            "_model_module_version": "1.2.0",
            "_view_count": null,
            "flex_flow": null,
            "width": null,
            "min_width": null,
            "border": null,
            "align_items": null,
            "bottom": null,
            "_model_module": "@jupyter-widgets/base",
            "top": null,
            "grid_column": null,
            "overflow_y": null,
            "overflow_x": null,
            "grid_auto_flow": null,
            "grid_area": null,
            "grid_template_columns": null,
            "flex": null,
            "_model_name": "LayoutModel",
            "justify_items": null,
            "grid_row": null,
            "max_height": null,
            "align_content": null,
            "visibility": null,
            "align_self": null,
            "height": null,
            "min_height": null,
            "padding": null,
            "grid_auto_rows": null,
            "grid_gap": null,
            "max_width": null,
            "order": null,
            "_view_module_version": "1.2.0",
            "grid_template_areas": null,
            "object_position": null,
            "object_fit": null,
            "grid_auto_columns": null,
            "margin": null,
            "display": null,
            "left": null
          }
        },
        "76091ee6d7c74f6abc294f684b34a426": {
          "model_module": "@jupyter-widgets/controls",
          "model_name": "HTMLModel",
          "state": {
            "_view_name": "HTMLView",
            "style": "IPY_MODEL_6ffc5d6f07b74631bd49dea25a23b6a5",
            "_dom_classes": [],
            "description": "",
            "_model_name": "HTMLModel",
            "placeholder": "​",
            "_view_module": "@jupyter-widgets/controls",
            "_model_module_version": "1.5.0",
            "value": "Render HTML: 100%",
            "_view_count": null,
            "_view_module_version": "1.5.0",
            "description_tooltip": null,
            "_model_module": "@jupyter-widgets/controls",
            "layout": "IPY_MODEL_ed27534cd1fb4bcc9a8f4939d5301525"
          }
        },
        "1ee677393acb4e75a7d5c946ddcb0d8f": {
          "model_module": "@jupyter-widgets/controls",
          "model_name": "FloatProgressModel",
          "state": {
            "_view_name": "ProgressView",
            "style": "IPY_MODEL_463db46647f04e8ca55a2510905f99af",
            "_dom_classes": [],
            "description": "",
            "_model_name": "FloatProgressModel",
            "bar_style": "success",
            "max": 1,
            "_view_module": "@jupyter-widgets/controls",
            "_model_module_version": "1.5.0",
            "value": 1,
            "_view_count": null,
            "_view_module_version": "1.5.0",
            "orientation": "horizontal",
            "min": 0,
            "description_tooltip": null,
            "_model_module": "@jupyter-widgets/controls",
            "layout": "IPY_MODEL_18a5f33b34cb4d50be92a45704dda1ad"
          }
        },
        "014be6602cc94994b90819434073d2a1": {
          "model_module": "@jupyter-widgets/controls",
          "model_name": "HTMLModel",
          "state": {
            "_view_name": "HTMLView",
            "style": "IPY_MODEL_7dc6b3dd28cf4e16a964ec7ddce84911",
            "_dom_classes": [],
            "description": "",
            "_model_name": "HTMLModel",
            "placeholder": "​",
            "_view_module": "@jupyter-widgets/controls",
            "_model_module_version": "1.5.0",
            "value": " 1/1 [00:13&lt;00:00, 13.16s/it]",
            "_view_count": null,
            "_view_module_version": "1.5.0",
            "description_tooltip": null,
            "_model_module": "@jupyter-widgets/controls",
            "layout": "IPY_MODEL_788ac5d712b943e5b5441bcd1347cd72"
          }
        },
        "6ffc5d6f07b74631bd49dea25a23b6a5": {
          "model_module": "@jupyter-widgets/controls",
          "model_name": "DescriptionStyleModel",
          "state": {
            "_view_name": "StyleView",
            "_model_name": "DescriptionStyleModel",
            "description_width": "",
            "_view_module": "@jupyter-widgets/base",
            "_model_module_version": "1.5.0",
            "_view_count": null,
            "_view_module_version": "1.2.0",
            "_model_module": "@jupyter-widgets/controls"
          }
        },
        "ed27534cd1fb4bcc9a8f4939d5301525": {
          "model_module": "@jupyter-widgets/base",
          "model_name": "LayoutModel",
          "state": {
            "_view_name": "LayoutView",
            "grid_template_rows": null,
            "right": null,
            "justify_content": null,
            "_view_module": "@jupyter-widgets/base",
            "overflow": null,
            "_model_module_version": "1.2.0",
            "_view_count": null,
            "flex_flow": null,
            "width": null,
            "min_width": null,
            "border": null,
            "align_items": null,
            "bottom": null,
            "_model_module": "@jupyter-widgets/base",
            "top": null,
            "grid_column": null,
            "overflow_y": null,
            "overflow_x": null,
            "grid_auto_flow": null,
            "grid_area": null,
            "grid_template_columns": null,
            "flex": null,
            "_model_name": "LayoutModel",
            "justify_items": null,
            "grid_row": null,
            "max_height": null,
            "align_content": null,
            "visibility": null,
            "align_self": null,
            "height": null,
            "min_height": null,
            "padding": null,
            "grid_auto_rows": null,
            "grid_gap": null,
            "max_width": null,
            "order": null,
            "_view_module_version": "1.2.0",
            "grid_template_areas": null,
            "object_position": null,
            "object_fit": null,
            "grid_auto_columns": null,
            "margin": null,
            "display": null,
            "left": null
          }
        },
        "463db46647f04e8ca55a2510905f99af": {
          "model_module": "@jupyter-widgets/controls",
          "model_name": "ProgressStyleModel",
          "state": {
            "_view_name": "StyleView",
            "_model_name": "ProgressStyleModel",
            "description_width": "",
            "_view_module": "@jupyter-widgets/base",
            "_model_module_version": "1.5.0",
            "_view_count": null,
            "_view_module_version": "1.2.0",
            "bar_color": null,
            "_model_module": "@jupyter-widgets/controls"
          }
        },
        "18a5f33b34cb4d50be92a45704dda1ad": {
          "model_module": "@jupyter-widgets/base",
          "model_name": "LayoutModel",
          "state": {
            "_view_name": "LayoutView",
            "grid_template_rows": null,
            "right": null,
            "justify_content": null,
            "_view_module": "@jupyter-widgets/base",
            "overflow": null,
            "_model_module_version": "1.2.0",
            "_view_count": null,
            "flex_flow": null,
            "width": null,
            "min_width": null,
            "border": null,
            "align_items": null,
            "bottom": null,
            "_model_module": "@jupyter-widgets/base",
            "top": null,
            "grid_column": null,
            "overflow_y": null,
            "overflow_x": null,
            "grid_auto_flow": null,
            "grid_area": null,
            "grid_template_columns": null,
            "flex": null,
            "_model_name": "LayoutModel",
            "justify_items": null,
            "grid_row": null,
            "max_height": null,
            "align_content": null,
            "visibility": null,
            "align_self": null,
            "height": null,
            "min_height": null,
            "padding": null,
            "grid_auto_rows": null,
            "grid_gap": null,
            "max_width": null,
            "order": null,
            "_view_module_version": "1.2.0",
            "grid_template_areas": null,
            "object_position": null,
            "object_fit": null,
            "grid_auto_columns": null,
            "margin": null,
            "display": null,
            "left": null
          }
        },
        "7dc6b3dd28cf4e16a964ec7ddce84911": {
          "model_module": "@jupyter-widgets/controls",
          "model_name": "DescriptionStyleModel",
          "state": {
            "_view_name": "StyleView",
            "_model_name": "DescriptionStyleModel",
            "description_width": "",
            "_view_module": "@jupyter-widgets/base",
            "_model_module_version": "1.5.0",
            "_view_count": null,
            "_view_module_version": "1.2.0",
            "_model_module": "@jupyter-widgets/controls"
          }
        },
        "788ac5d712b943e5b5441bcd1347cd72": {
          "model_module": "@jupyter-widgets/base",
          "model_name": "LayoutModel",
          "state": {
            "_view_name": "LayoutView",
            "grid_template_rows": null,
            "right": null,
            "justify_content": null,
            "_view_module": "@jupyter-widgets/base",
            "overflow": null,
            "_model_module_version": "1.2.0",
            "_view_count": null,
            "flex_flow": null,
            "width": null,
            "min_width": null,
            "border": null,
            "align_items": null,
            "bottom": null,
            "_model_module": "@jupyter-widgets/base",
            "top": null,
            "grid_column": null,
            "overflow_y": null,
            "overflow_x": null,
            "grid_auto_flow": null,
            "grid_area": null,
            "grid_template_columns": null,
            "flex": null,
            "_model_name": "LayoutModel",
            "justify_items": null,
            "grid_row": null,
            "max_height": null,
            "align_content": null,
            "visibility": null,
            "align_self": null,
            "height": null,
            "min_height": null,
            "padding": null,
            "grid_auto_rows": null,
            "grid_gap": null,
            "max_width": null,
            "order": null,
            "_view_module_version": "1.2.0",
            "grid_template_areas": null,
            "object_position": null,
            "object_fit": null,
            "grid_auto_columns": null,
            "margin": null,
            "display": null,
            "left": null
          }
        },
        "8f62f4ebb00641daaab71806de3b0438": {
          "model_module": "@jupyter-widgets/controls",
          "model_name": "HBoxModel",
          "state": {
            "_view_name": "HBoxView",
            "_dom_classes": [],
            "_model_name": "HBoxModel",
            "_view_module": "@jupyter-widgets/controls",
            "_model_module_version": "1.5.0",
            "_view_count": null,
            "_view_module_version": "1.5.0",
            "box_style": "",
            "layout": "IPY_MODEL_37700065c36142f8b1d2881d7a7a1f4f",
            "_model_module": "@jupyter-widgets/controls",
            "children": [
              "IPY_MODEL_e37e85518537494fbf0fc1e1ad976d98",
              "IPY_MODEL_46affc5ee8d94311ac7d12de842b95d1",
              "IPY_MODEL_2c857e821b4c4be6ac4b958403bcb3c3"
            ]
          }
        },
        "37700065c36142f8b1d2881d7a7a1f4f": {
          "model_module": "@jupyter-widgets/base",
          "model_name": "LayoutModel",
          "state": {
            "_view_name": "LayoutView",
            "grid_template_rows": null,
            "right": null,
            "justify_content": null,
            "_view_module": "@jupyter-widgets/base",
            "overflow": null,
            "_model_module_version": "1.2.0",
            "_view_count": null,
            "flex_flow": null,
            "width": null,
            "min_width": null,
            "border": null,
            "align_items": null,
            "bottom": null,
            "_model_module": "@jupyter-widgets/base",
            "top": null,
            "grid_column": null,
            "overflow_y": null,
            "overflow_x": null,
            "grid_auto_flow": null,
            "grid_area": null,
            "grid_template_columns": null,
            "flex": null,
            "_model_name": "LayoutModel",
            "justify_items": null,
            "grid_row": null,
            "max_height": null,
            "align_content": null,
            "visibility": null,
            "align_self": null,
            "height": null,
            "min_height": null,
            "padding": null,
            "grid_auto_rows": null,
            "grid_gap": null,
            "max_width": null,
            "order": null,
            "_view_module_version": "1.2.0",
            "grid_template_areas": null,
            "object_position": null,
            "object_fit": null,
            "grid_auto_columns": null,
            "margin": null,
            "display": null,
            "left": null
          }
        },
        "e37e85518537494fbf0fc1e1ad976d98": {
          "model_module": "@jupyter-widgets/controls",
          "model_name": "HTMLModel",
          "state": {
            "_view_name": "HTMLView",
            "style": "IPY_MODEL_914b3892e6c94458b3d4d86f8ccdce60",
            "_dom_classes": [],
            "description": "",
            "_model_name": "HTMLModel",
            "placeholder": "​",
            "_view_module": "@jupyter-widgets/controls",
            "_model_module_version": "1.5.0",
            "value": "Export report to file: 100%",
            "_view_count": null,
            "_view_module_version": "1.5.0",
            "description_tooltip": null,
            "_model_module": "@jupyter-widgets/controls",
            "layout": "IPY_MODEL_f2e59e2ddd8f4a9aada6b45048a5b387"
          }
        },
        "46affc5ee8d94311ac7d12de842b95d1": {
          "model_module": "@jupyter-widgets/controls",
          "model_name": "FloatProgressModel",
          "state": {
            "_view_name": "ProgressView",
            "style": "IPY_MODEL_05889e2c90f1428eb395c24fed6ebd29",
            "_dom_classes": [],
            "description": "",
            "_model_name": "FloatProgressModel",
            "bar_style": "success",
            "max": 1,
            "_view_module": "@jupyter-widgets/controls",
            "_model_module_version": "1.5.0",
            "value": 1,
            "_view_count": null,
            "_view_module_version": "1.5.0",
            "orientation": "horizontal",
            "min": 0,
            "description_tooltip": null,
            "_model_module": "@jupyter-widgets/controls",
            "layout": "IPY_MODEL_0085fd9597f441aca213da1a56b49a58"
          }
        },
        "2c857e821b4c4be6ac4b958403bcb3c3": {
          "model_module": "@jupyter-widgets/controls",
          "model_name": "HTMLModel",
          "state": {
            "_view_name": "HTMLView",
            "style": "IPY_MODEL_71bb5880888d45838e163b1dabfc4d8e",
            "_dom_classes": [],
            "description": "",
            "_model_name": "HTMLModel",
            "placeholder": "​",
            "_view_module": "@jupyter-widgets/controls",
            "_model_module_version": "1.5.0",
            "value": " 1/1 [00:00&lt;00:00,  9.92it/s]",
            "_view_count": null,
            "_view_module_version": "1.5.0",
            "description_tooltip": null,
            "_model_module": "@jupyter-widgets/controls",
            "layout": "IPY_MODEL_382d58e14d41445388ed0fc3cb0dc5bc"
          }
        },
        "914b3892e6c94458b3d4d86f8ccdce60": {
          "model_module": "@jupyter-widgets/controls",
          "model_name": "DescriptionStyleModel",
          "state": {
            "_view_name": "StyleView",
            "_model_name": "DescriptionStyleModel",
            "description_width": "",
            "_view_module": "@jupyter-widgets/base",
            "_model_module_version": "1.5.0",
            "_view_count": null,
            "_view_module_version": "1.2.0",
            "_model_module": "@jupyter-widgets/controls"
          }
        },
        "f2e59e2ddd8f4a9aada6b45048a5b387": {
          "model_module": "@jupyter-widgets/base",
          "model_name": "LayoutModel",
          "state": {
            "_view_name": "LayoutView",
            "grid_template_rows": null,
            "right": null,
            "justify_content": null,
            "_view_module": "@jupyter-widgets/base",
            "overflow": null,
            "_model_module_version": "1.2.0",
            "_view_count": null,
            "flex_flow": null,
            "width": null,
            "min_width": null,
            "border": null,
            "align_items": null,
            "bottom": null,
            "_model_module": "@jupyter-widgets/base",
            "top": null,
            "grid_column": null,
            "overflow_y": null,
            "overflow_x": null,
            "grid_auto_flow": null,
            "grid_area": null,
            "grid_template_columns": null,
            "flex": null,
            "_model_name": "LayoutModel",
            "justify_items": null,
            "grid_row": null,
            "max_height": null,
            "align_content": null,
            "visibility": null,
            "align_self": null,
            "height": null,
            "min_height": null,
            "padding": null,
            "grid_auto_rows": null,
            "grid_gap": null,
            "max_width": null,
            "order": null,
            "_view_module_version": "1.2.0",
            "grid_template_areas": null,
            "object_position": null,
            "object_fit": null,
            "grid_auto_columns": null,
            "margin": null,
            "display": null,
            "left": null
          }
        },
        "05889e2c90f1428eb395c24fed6ebd29": {
          "model_module": "@jupyter-widgets/controls",
          "model_name": "ProgressStyleModel",
          "state": {
            "_view_name": "StyleView",
            "_model_name": "ProgressStyleModel",
            "description_width": "",
            "_view_module": "@jupyter-widgets/base",
            "_model_module_version": "1.5.0",
            "_view_count": null,
            "_view_module_version": "1.2.0",
            "bar_color": null,
            "_model_module": "@jupyter-widgets/controls"
          }
        },
        "0085fd9597f441aca213da1a56b49a58": {
          "model_module": "@jupyter-widgets/base",
          "model_name": "LayoutModel",
          "state": {
            "_view_name": "LayoutView",
            "grid_template_rows": null,
            "right": null,
            "justify_content": null,
            "_view_module": "@jupyter-widgets/base",
            "overflow": null,
            "_model_module_version": "1.2.0",
            "_view_count": null,
            "flex_flow": null,
            "width": null,
            "min_width": null,
            "border": null,
            "align_items": null,
            "bottom": null,
            "_model_module": "@jupyter-widgets/base",
            "top": null,
            "grid_column": null,
            "overflow_y": null,
            "overflow_x": null,
            "grid_auto_flow": null,
            "grid_area": null,
            "grid_template_columns": null,
            "flex": null,
            "_model_name": "LayoutModel",
            "justify_items": null,
            "grid_row": null,
            "max_height": null,
            "align_content": null,
            "visibility": null,
            "align_self": null,
            "height": null,
            "min_height": null,
            "padding": null,
            "grid_auto_rows": null,
            "grid_gap": null,
            "max_width": null,
            "order": null,
            "_view_module_version": "1.2.0",
            "grid_template_areas": null,
            "object_position": null,
            "object_fit": null,
            "grid_auto_columns": null,
            "margin": null,
            "display": null,
            "left": null
          }
        },
        "71bb5880888d45838e163b1dabfc4d8e": {
          "model_module": "@jupyter-widgets/controls",
          "model_name": "DescriptionStyleModel",
          "state": {
            "_view_name": "StyleView",
            "_model_name": "DescriptionStyleModel",
            "description_width": "",
            "_view_module": "@jupyter-widgets/base",
            "_model_module_version": "1.5.0",
            "_view_count": null,
            "_view_module_version": "1.2.0",
            "_model_module": "@jupyter-widgets/controls"
          }
        },
        "382d58e14d41445388ed0fc3cb0dc5bc": {
          "model_module": "@jupyter-widgets/base",
          "model_name": "LayoutModel",
          "state": {
            "_view_name": "LayoutView",
            "grid_template_rows": null,
            "right": null,
            "justify_content": null,
            "_view_module": "@jupyter-widgets/base",
            "overflow": null,
            "_model_module_version": "1.2.0",
            "_view_count": null,
            "flex_flow": null,
            "width": null,
            "min_width": null,
            "border": null,
            "align_items": null,
            "bottom": null,
            "_model_module": "@jupyter-widgets/base",
            "top": null,
            "grid_column": null,
            "overflow_y": null,
            "overflow_x": null,
            "grid_auto_flow": null,
            "grid_area": null,
            "grid_template_columns": null,
            "flex": null,
            "_model_name": "LayoutModel",
            "justify_items": null,
            "grid_row": null,
            "max_height": null,
            "align_content": null,
            "visibility": null,
            "align_self": null,
            "height": null,
            "min_height": null,
            "padding": null,
            "grid_auto_rows": null,
            "grid_gap": null,
            "max_width": null,
            "order": null,
            "_view_module_version": "1.2.0",
            "grid_template_areas": null,
            "object_position": null,
            "object_fit": null,
            "grid_auto_columns": null,
            "margin": null,
            "display": null,
            "left": null
          }
        }
      }
    }
  },
  "cells": [
    {
      "cell_type": "markdown",
      "metadata": {
        "id": "view-in-github",
        "colab_type": "text"
      },
      "source": [
        "<a href=\"https://colab.research.google.com/github/Amanimatta/datascience_bootcamp_project/blob/main/main/McD_Menu_Data_Analysis.ipynb\" target=\"_parent\"><img src=\"https://colab.research.google.com/assets/colab-badge.svg\" alt=\"Open In Colab\"/></a>"
      ]
    },
    {
      "cell_type": "code",
      "metadata": {
        "id": "qoR8we7uQNL_"
      },
      "source": [
        "import numpy as nm"
      ],
      "execution_count": null,
      "outputs": []
    },
    {
      "cell_type": "code",
      "metadata": {
        "id": "nkpAsUJIQQZd"
      },
      "source": [
        "import pandas as pd\n",
        "import matplotlib.pyplot as plt # matplotlib for visualizations"
      ],
      "execution_count": null,
      "outputs": []
    },
    {
      "cell_type": "code",
      "metadata": {
        "id": "ZpcwClWpmlsD"
      },
      "source": [
        "from pandas_profiling import ProfileReport\n",
        "#https://github.com/pandas-profiling/pandas-profiling"
      ],
      "execution_count": null,
      "outputs": []
    },
    {
      "cell_type": "code",
      "metadata": {
        "id": "OYPUQMXShinU"
      },
      "source": [
        "import seaborn as sns"
      ],
      "execution_count": null,
      "outputs": []
    },
    {
      "cell_type": "code",
      "metadata": {
        "colab": {
          "resources": {
            "http://localhost:8080/nbextensions/google.colab/files.js": {
              "data": "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",
              "ok": true,
              "headers": [
                [
                  "content-type",
                  "application/javascript"
                ]
              ],
              "status": 200,
              "status_text": ""
            }
          },
          "base_uri": "https://localhost:8080/",
          "height": 109
        },
        "id": "4kJQxKzqQTgJ",
        "outputId": "708711e0-548f-4bdc-a59b-4e01fa537191"
      },
      "source": [
        "from google.colab import files\n",
        "files.upload() "
      ],
      "execution_count": null,
      "outputs": [
        {
          "output_type": "display_data",
          "data": {
            "text/html": [
              "\n",
              "     <input type=\"file\" id=\"files-75e5a3d5-202b-4363-8c33-c4873550138b\" name=\"files[]\" multiple disabled\n",
              "        style=\"border:none\" />\n",
              "     <output id=\"result-75e5a3d5-202b-4363-8c33-c4873550138b\">\n",
              "      Upload widget is only available when the cell has been executed in the\n",
              "      current browser session. Please rerun this cell to enable.\n",
              "      </output>\n",
              "      <script src=\"/nbextensions/google.colab/files.js\"></script> "
            ],
            "text/plain": [
              "<IPython.core.display.HTML object>"
            ]
          },
          "metadata": {
            "tags": []
          }
        },
        {
          "output_type": "stream",
          "text": [
            "Saving menu.csv to menu.csv\n"
          ],
          "name": "stdout"
        },
        {
          "output_type": "execute_result",
          "data": {
            "text/plain": [
              "{'menu.csv': b'Category,Item,Serving Size,Calories,Calories from Fat,Total Fat,Total Fat (% Daily Value),Saturated Fat,Saturated Fat (% Daily Value),Trans Fat,Cholesterol,Cholesterol (% Daily Value),Sodium,Sodium (% Daily Value),Carbohydrates,Carbohydrates (% Daily Value),Dietary Fiber,Dietary Fiber (% Daily Value),Sugars,Protein,Vitamin A (% Daily Value),Vitamin C (% Daily Value),Calcium (% Daily Value),Iron (% Daily Value)\\nBreakfast,Egg McMuffin,4.8 oz (136 g),300,120,13,20,5,25,0,260,87,750,31,31,10,4,17,3,17,10,0,25,15\\nBreakfast,Egg White Delight,4.8 oz (135 g),250,70,8,12,3,15,0,25,8,770,32,30,10,4,17,3,18,6,0,25,8\\nBreakfast,Sausage McMuffin,3.9 oz (111 g),370,200,23,35,8,42,0,45,15,780,33,29,10,4,17,2,14,8,0,25,10\\nBreakfast,Sausage McMuffin with Egg,5.7 oz (161 g),450,250,28,43,10,52,0,285,95,860,36,30,10,4,17,2,21,15,0,30,15\\nBreakfast,Sausage McMuffin with Egg Whites,5.7 oz (161 g),400,210,23,35,8,42,0,50,16,880,37,30,10,4,17,2,21,6,0,25,10\\nBreakfast,Steak & Egg McMuffin,6.5 oz (185 g),430,210,23,36,9,46,1,300,100,960,40,31,10,4,18,3,26,15,2,30,20\\nBreakfast,\"Bacon, Egg & Cheese Biscuit (Regular Biscuit)\",5.3 oz (150 g),460,230,26,40,13,65,0,250,83,1300,54,38,13,2,7,3,19,10,8,15,15\\nBreakfast,\"Bacon, Egg & Cheese Biscuit (Large Biscuit)\",5.8 oz (164 g),520,270,30,47,14,68,0,250,83,1410,59,43,14,3,12,4,19,15,8,20,20\\nBreakfast,\"Bacon, Egg & Cheese Biscuit with Egg Whites (Regular Biscuit)\",5.4 oz (153 g),410,180,20,32,11,56,0,35,11,1300,54,36,12,2,7,3,20,2,8,15,10\\nBreakfast,\"Bacon, Egg & Cheese Biscuit with Egg Whites (Large Biscuit)\",5.9 oz (167 g),470,220,25,38,12,59,0,35,11,1420,59,42,14,3,12,4,20,6,8,15,15\\nBreakfast,Sausage Biscuit (Regular Biscuit),4.1 oz (117 g),430,240,27,42,12,62,0,30,10,1080,45,34,11,2,6,2,11,0,0,6,15\\nBreakfast,Sausage Biscuit (Large Biscuit),4.6 oz (131 g),480,280,31,48,13,65,0,30,10,1190,50,39,13,3,11,3,11,4,0,8,15\\nBreakfast,Sausage Biscuit with Egg (Regular Biscuit),5.7 oz (163 g),510,290,33,50,14,71,0,250,83,1170,49,36,12,2,6,2,18,6,0,10,20\\nBreakfast,Sausage Biscuit with Egg (Large Biscuit),6.2 oz (177 g),570,330,37,57,15,74,0,250,83,1280,53,42,14,3,11,3,18,10,0,10,20\\nBreakfast,Sausage Biscuit with Egg Whites (Regular Biscuit),5.9 oz (167 g),460,250,27,42,12,62,0,35,11,1180,49,34,11,2,6,3,18,0,0,8,15\\nBreakfast,Sausage Biscuit with Egg Whites (Large Biscuit),6.4 oz (181 g),520,280,32,49,13,65,0,35,11,1290,54,40,13,3,11,3,18,4,0,8,15\\nBreakfast,Southern Style Chicken Biscuit (Regular Biscuit),5 oz (143 g),410,180,20,31,8,41,0,30,10,1180,49,41,14,2,6,3,17,0,2,6,15\\nBreakfast,Southern Style Chicken Biscuit (Large Biscuit),5.5 oz (157 g),470,220,24,37,9,45,0,30,10,1290,54,46,15,3,11,4,17,4,2,8,15\\nBreakfast,Steak & Egg Biscuit (Regular Biscuit),7.1 oz (201 g),540,290,32,49,16,78,1,280,93,1470,61,38,13,2,8,3,25,10,2,20,25\\nBreakfast,\"Bacon, Egg & Cheese McGriddles\",6.1 oz (174 g),460,190,21,32,9,44,0,250,84,1250,52,48,16,2,9,15,19,10,10,20,15\\nBreakfast,\"Bacon, Egg & Cheese McGriddles with Egg Whites\",6.3 oz (178 g),400,140,15,24,7,34,0,35,11,1250,52,47,16,2,9,16,20,2,10,15,10\\nBreakfast,Sausage McGriddles,5 oz (141 g),420,200,22,34,8,40,0,35,11,1030,43,44,15,2,8,15,11,0,0,8,10\\nBreakfast,\"Sausage, Egg & Cheese McGriddles\",7.1 oz (201 g),550,280,31,48,12,61,0,265,89,1320,55,48,16,2,9,15,20,10,0,20,15\\nBreakfast,\"Sausage, Egg & Cheese McGriddles with Egg Whites\",7.2 oz (205 g),500,230,26,40,10,52,0,50,17,1320,55,46,15,2,9,15,21,2,0,20,10\\nBreakfast,\"Bacon, Egg & Cheese Bagel\",6.9 oz (197 g),620,280,31,48,11,56,0.5,275,92,1480,62,57,19,3,11,7,30,20,15,20,20\\nBreakfast,\"Bacon, Egg & Cheese Bagel with Egg Whites\",7.1 oz (201 g),570,230,25,39,9,45,0.5,60,20,1480,62,55,18,3,12,8,30,10,15,20,15\\nBreakfast,\"Steak, Egg & Cheese Bagel\",8.5 oz (241 g),670,310,35,53,13,63,1.5,295,99,1510,63,56,19,3,12,7,33,20,4,25,25\\nBreakfast,Big Breakfast (Regular Biscuit),9.5 oz (269 g),740,430,48,73,17,87,0,555,185,1560,65,51,17,3,12,3,28,15,2,15,25\\nBreakfast,Big Breakfast (Large Biscuit),10 oz (283 g),800,470,52,80,18,90,0,555,185,1680,70,56,19,4,17,3,28,15,2,15,30\\nBreakfast,Big Breakfast with Egg Whites (Regular Biscuit),9.6 oz (272 g),640,330,37,57,14,69,0,35,12,1590,66,50,17,3,12,3,26,0,2,10,15\\nBreakfast,Big Breakfast with Egg Whites (Large Biscuit),10.1 oz (286 g),690,370,41,63,14,72,0,35,12,1700,71,55,18,4,17,4,26,4,2,10,15\\nBreakfast,Big Breakfast with Hotcakes (Regular Biscuit),14.8 oz (420 g),1090,510,56,87,19,96,0,575,192,2150,90,111,37,6,23,17,36,15,2,25,40\\nBreakfast,Big Breakfast with Hotcakes (Large Biscuit),15.3 oz (434 g),1150,540,60,93,20,100,0,575,192,2260,94,116,39,7,28,17,36,15,2,30,40\\nBreakfast,Big Breakfast with Hotcakes and Egg Whites (Regular Biscuit),14.9 oz (423 g),990,410,46,70,16,78,0,55,19,2170,91,110,37,6,23,17,35,0,2,25,30\\nBreakfast,Big Breakfast with Hotcakes and Egg Whites (Large Biscuit),15.4 oz (437 g),1050,450,50,77,16,81,0,55,19,2290,95,115,38,7,28,18,35,4,2,25,30\\nBreakfast,Hotcakes,5.3 oz (151 g),350,80,9,13,2,9,0,20,7,590,24,60,20,3,10,14,8,0,0,15,15\\nBreakfast,Hotcakes and Sausage,6.8 oz (192 g),520,210,24,37,7,36,0,50,17,930,39,61,20,3,10,14,15,0,0,15,15\\nBreakfast,Sausage Burrito,3.9 oz (111 g),300,150,16,25,7,33,0,115,38,790,33,26,9,1,5,2,12,10,2,15,15\\nBreakfast,Hash Brown,2 oz (56 g),150,80,9,14,1.5,6,0,0,0,310,13,15,5,2,6,0,1,0,2,0,2\\nBreakfast,Cinnamon Melts,4 oz (114 g),460,170,19,30,9,43,0,15,5,370,15,66,22,3,11,32,6,4,0,6,15\\nBreakfast,Fruit & Maple Oatmeal,9.6 oz (251 g),290,35,4,6,1.5,8,0,5,2,160,7,58,19,5,19,32,5,2,130,10,10\\nBreakfast,Fruit & Maple Oatmeal without Brown Sugar,9.6 oz (251 g),260,40,4,6,1.5,8,0,5,2,115,5,49,16,5,22,18,5,2,130,6,10\\nBeef & Pork,Big Mac,7.4 oz (211 g),530,240,27,42,10,48,1,85,28,960,40,47,16,3,13,9,24,6,2,25,25\\nBeef & Pork,Quarter Pounder with Cheese,7.1 oz (202 g),520,240,26,41,12,61,1.5,95,31,1100,46,41,14,3,11,10,30,10,2,30,25\\nBeef & Pork,Quarter Pounder with Bacon & Cheese,8 oz (227 g),600,260,29,45,13,63,1.5,105,34,1440,60,48,16,3,12,12,37,6,15,25,30\\nBeef & Pork,Quarter Pounder with Bacon Habanero Ranch,8.3 oz (235 g),610,280,31,48,13,64,1.5,105,35,1180,49,46,15,3,14,10,37,8,20,25,30\\nBeef & Pork,Quarter Pounder Deluxe,8.6 oz (244 g),540,250,27,42,11,54,1.5,85,28,960,40,45,15,3,13,9,29,10,8,25,30\\nBeef & Pork,Double Quarter Pounder with Cheese,10 oz (283 g),750,380,43,66,19,96,2.5,160,53,1280,53,42,14,3,11,10,48,10,2,30,35\\nBeef & Pork,Hamburger,3.5 oz (98 g),240,70,8,12,3,15,0,30,10,480,20,32,11,1,6,6,12,2,2,10,15\\nBeef & Pork,Cheeseburger,4 oz (113 g),290,100,11,18,5,27,0.5,45,15,680,28,33,11,2,7,7,15,6,2,20,15\\nBeef & Pork,Double Cheeseburger,5.7 oz (161 g),430,190,21,32,10,52,1,90,30,1040,43,35,12,2,8,7,24,10,2,30,20\\nBeef & Pork,Bacon Clubhouse Burger,9.5 oz (270 g),720,360,40,62,15,75,1.5,115,38,1470,61,51,17,4,14,14,39,8,25,30,25\\nBeef & Pork,McDouble,5.2 oz (147 g),380,150,17,26,8,40,1,75,25,840,35,34,11,2,7,7,22,6,2,20,20\\nBeef & Pork,Bacon McDouble,5.7 oz (161 g),440,200,22,34,10,49,1,90,30,1110,46,35,12,2,7,7,27,6,10,20,20\\nBeef & Pork,Daily Double,6.7 oz (190 g),430,200,22,35,9,44,1,80,27,760,32,34,11,2,8,7,22,8,8,20,20\\nBeef & Pork,Jalape\\xc3\\xb1o Double,5.6 oz (159 g),430,210,23,36,9,44,1,80,27,1030,43,35,12,2,7,6,22,6,8,20,20\\nBeef & Pork,McRib,7.3 oz (208 g),500,240,26,40,10,48,0,70,23,980,41,44,15,3,10,11,22,2,2,15,20\\nChicken & Fish,Premium Crispy Chicken Classic Sandwich,7.5 oz (213 g),510,200,22,33,3.5,18,0,45,16,990,41,55,18,3,13,10,24,4,6,15,20\\nChicken & Fish,Premium Grilled Chicken Classic Sandwich,7 oz (200 g),350,80,9,13,2,9,0,65,22,820,34,42,14,3,13,8,28,4,8,15,20\\nChicken & Fish,Premium Crispy Chicken Club Sandwich,8.8 oz (249 g),670,300,33,51,9,44,0,85,29,1410,59,58,19,3,14,11,36,8,20,30,20\\nChicken & Fish,Premium Grilled Chicken Club Sandwich,8.3 oz (235 g),510,180,20,31,7,36,0,105,35,1250,52,44,15,3,13,9,40,8,20,30,20\\nChicken & Fish,Premium Crispy Chicken Ranch BLT Sandwich,8.1 oz (230 g),610,250,28,43,6,31,0,70,24,1400,58,57,19,3,13,11,32,4,20,15,20\\nChicken & Fish,Premium Grilled Chicken Ranch BLT Sandwich,7.6 oz (217 g),450,130,15,23,4.5,22,0,90,30,1230,51,43,14,3,13,9,36,4,20,15,20\\nChicken & Fish,Bacon Clubhouse Crispy Chicken Sandwich,10 oz (284 g),750,340,38,59,10,51,0.5,90,31,1720,72,65,22,4,15,16,36,8,25,30,15\\nChicken & Fish,Bacon Clubhouse Grilled Chicken Sandwich,9.5 oz (270 g),590,230,25,39,8,42,0,110,37,1560,65,51,17,4,15,14,40,8,30,30,15\\nChicken & Fish,Southern Style Crispy Chicken Sandwich,5.6 oz (160 g),430,170,19,29,3,15,0,45,14,910,38,43,14,2,7,7,21,4,2,15,15\\nChicken & Fish,McChicken,5.1 oz (143 g),360,140,16,25,3,15,0,35,11,800,33,40,13,2,7,5,14,0,2,10,15\\nChicken & Fish,Bacon Cheddar McChicken,6 oz (171 g),480,220,24,38,7,35,0,65,21,1260,53,43,14,2,8,6,22,4,10,20,15\\nChicken & Fish,Bacon Buffalo Ranch McChicken,5.7 oz (161 g),430,190,21,32,5,25,0,50,17,1260,53,41,14,2,7,6,20,2,10,15,15\\nChicken & Fish,Buffalo Ranch McChicken,5.2 oz (148 g),360,150,16,25,3,16,0,35,11,990,41,40,13,2,7,5,14,2,2,15,15\\nChicken & Fish,Premium McWrap Chicken & Bacon (Crispy Chicken),11.1 oz (316 g),630,280,32,49,9,45,0.5,80,26,1540,64,56,19,3,13,7,32,60,20,20,20\\nChicken & Fish,Premium McWrap Chicken & Bacon (Grilled Chicken),10.7 oz (302 g),480,170,19,28,7,36,0,95,32,1370,57,42,14,3,13,6,36,60,25,20,20\\nChicken & Fish,Premium McWrap Chicken & Ranch (Crispy Chicken),10.9 oz (310 g),610,280,31,47,8,40,0.5,65,21,1340,56,56,19,3,14,8,27,60,15,20,20\\nChicken & Fish,Premium McWrap Chicken & Ranch (Grilled Chicken),10.5 oz (297 g),450,160,18,27,6,31,0.5,80,27,1170,49,42,14,3,14,6,30,60,15,15,20\\nChicken & Fish,Premium McWrap Southwest Chicken (Crispy Chicken),11.1 oz (314 g),670,300,33,51,8,40,0.5,60,21,1480,62,68,23,5,19,12,27,60,15,20,20\\nChicken & Fish,Premium McWrap Southwest Chicken (Grilled Chicken),11.2 oz (318 g),520,180,20,31,6,32,0,80,27,1320,55,55,18,5,20,10,31,70,15,20,20\\nChicken & Fish,Premium McWrap Chicken Sweet Chili (Crispy Chicken),10.7 oz (304 g),540,200,23,35,4.5,23,0,50,16,1260,52,61,20,3,13,14,23,60,15,8,20\\nChicken & Fish,Premium McWrap Chicken Sweet Chili (Grilled Chicken),10.3 oz (291 g),380,90,10,15,3,14,0,65,22,1090,45,47,16,3,13,12,27,60,15,8,20\\nChicken & Fish,Chicken McNuggets (4 piece),2.3 oz (65 g),190,110,12,18,2,10,0,25,9,360,15,12,4,1,2,0,9,0,2,0,2\\nChicken & Fish,Chicken McNuggets (6 piece),3.4 oz (97 g),280,160,18,27,3,15,0,40,13,540,22,18,6,1,4,0,13,0,2,2,4\\nChicken & Fish,Chicken McNuggets (10 piece),5.7 oz (162 g),470,270,30,45,5,25,0,65,22,900,37,30,10,2,6,0,22,0,4,2,6\\nChicken & Fish,Chicken McNuggets (20 piece),11.4 oz (323 g),940,530,59,91,10,50,0,135,44,1800,75,59,20,3,12,0,44,0,8,4,10\\nChicken & Fish,Chicken McNuggets (40 piece),22.8 oz (646 g),1880,1060,118,182,20,101,1,265,89,3600,150,118,39,6,24,1,87,0,15,8,25\\nChicken & Fish,Filet-O-Fish,5 oz (142 g),390,170,19,29,4,19,0,40,14,590,24,39,13,2,7,5,15,2,0,15,10\\nSalads,Premium Bacon Ranch Salad (without Chicken),7.9 oz (223 g),140,70,7,11,3.5,18,0,25,9,300,13,10,3,3,12,4,9,170,30,15,6\\nSalads,Premium Bacon Ranch Salad with Crispy Chicken,9 oz (255 g),380,190,21,33,6,29,0,70,23,860,36,22,7,2,10,5,25,100,25,15,8\\nSalads,Premium Bacon Ranch Salad with Grilled Chicken,8.5 oz (241 g),220,80,8,13,4,20,0,85,29,690,29,8,3,2,10,4,29,110,30,15,8\\nSalads,Premium Southwest Salad (without Chicken),8.1 oz (230 g),140,40,4.5,7,2,9,0,10,3,150,6,20,7,6,23,6,6,160,25,15,10\\nSalads,Premium Southwest Salad with Crispy Chicken,12.3 oz (348 g),450,190,22,33,4.5,22,0,50,17,850,35,42,14,7,28,12,23,170,30,15,15\\nSalads,Premium Southwest Salad with Grilled Chicken,11.8 oz (335 g),290,80,8,13,2.5,13,0,70,23,680,28,28,9,7,28,10,27,170,30,15,15\\nSnacks & Sides,Chipotle BBQ Snack Wrap (Crispy Chicken),4.6 oz (130 g),340,130,15,23,4.5,22,0,30,11,780,33,37,12,1,6,8,14,4,0,10,10\\nSnacks & Sides,Chipotle BBQ Snack Wrap (Grilled Chicken),4.3 oz (123 g),260,70,8,13,3.5,18,0,40,14,700,29,30,10,1,6,7,16,4,2,10,10\\nSnacks & Sides,Honey Mustard Snack Wrap (Crispy Chicken),4.3 oz (123 g),330,130,15,23,4.5,22,0,35,11,730,30,34,11,1,5,3,14,2,0,10,10\\nSnacks & Sides,Honey Mustard Snack Wrap (Grilled Chicken),4.1 oz (116 g),250,70,8,13,3.5,18,0,45,14,650,27,27,9,1,5,2,16,2,2,10,10\\nSnacks & Sides,Ranch Snack Wrap (Crispy Chicken),4.5 oz (128 g),360,180,20,30,5,27,0,40,13,810,34,32,11,1,5,3,15,2,0,10,10\\nSnacks & Sides,Ranch Snack Wrap (Grilled Chicken),4.3 oz (121 g),280,120,13,20,4.5,22,0,45,16,720,30,25,8,1,5,2,16,2,2,10,10\\nSnacks & Sides,Small French Fries,2.6 oz (75 g),230,100,11,17,1.5,8,0,0,0,130,5,30,10,2,10,0,2,0,30,0,4\\nSnacks & Sides,Medium French Fries,3.9 oz (111 g),340,140,16,24,2.5,11,0,0,0,190,8,44,15,4,14,0,4,0,45,2,4\\nSnacks & Sides,Large French Fries,5.9 oz (168 g),510,220,24,37,3.5,17,0,0,0,290,12,67,22,5,22,0,6,0,70,2,8\\nSnacks & Sides,Kids French Fries,1.3 oz (38 g),110,50,5,8,1,4,0,0,0,65,3,15,5,1,5,0,1,0,15,0,2\\nSnacks & Sides,Side Salad,3.1 oz (87 g),20,0,0,0,0,0,0,0,0,10,0,4,1,1,6,2,1,45,25,2,4\\nSnacks & Sides,Apple Slices,1.2 oz (34 g),15,0,0,0,0,0,0,0,0,0,0,4,1,0,0,3,0,0,160,2,0\\nSnacks & Sides,Fruit \\'n Yogurt Parfait,5.2 oz (149 g),150,20,2,3,1,5,0,5,2,70,3,30,10,1,3,23,4,2,15,10,4\\nDesserts,Baked Apple Pie,2.7 oz (77 g),250,110,13,19,7,35,0,0,0,170,7,32,11,4,15,13,2,4,25,2,6\\nDesserts,Chocolate Chip Cookie,1 cookie (33 g),160,70,8,12,3.5,19,0,10,3,90,4,21,7,1,3,15,2,2,0,2,8\\nDesserts,Oatmeal Raisin Cookie,1 cookie (33 g),150,50,6,9,2.5,13,0,10,3,135,6,22,7,1,3,13,2,2,0,2,6\\nDesserts,Kids Ice Cream Cone,1 oz (29 g),45,10,1.5,2,1,4,0,5,2,20,1,7,2,0,0,6,1,2,0,4,0\\nDesserts,Hot Fudge Sundae,6.3 oz (179 g),330,80,9,14,7,34,0,25,8,170,7,53,18,1,3,48,8,8,0,25,8\\nDesserts,Hot Caramel Sundae,6.4 oz (182 g),340,70,8,12,5,24,0,30,10,150,6,60,20,0,0,43,7,10,0,25,0\\nDesserts,Strawberry Sundae,6.3 oz (178 g),280,60,6,10,4,20,0,25,8,85,4,49,16,0,0,45,6,8,4,20,0\\nBeverages,Coca-Cola Classic (Small),16 fl oz cup,140,0,0,0,0,0,0,0,0,0,0,39,13,0,0,39,0,0,0,0,0\\nBeverages,Coca-Cola Classic (Medium),21 fl oz cup,200,0,0,0,0,0,0,0,0,5,0,55,18,0,0,55,0,0,0,0,0\\nBeverages,Coca-Cola Classic (Large),30 fl oz cup,280,0,0,0,0,0,0,0,0,5,0,76,25,0,0,76,0,0,0,0,0\\nBeverages,Coca-Cola Classic (Child),12 fl oz cup,100,0,0,0,0,0,0,0,0,0,0,28,9,0,0,28,0,0,0,0,0\\nBeverages,Diet Coke (Small),16 fl oz cup,0,0,0,0,0,0,0,0,0,10,0,0,0,0,0,0,0,0,0,0,0\\nBeverages,Diet Coke (Medium),21 fl oz cup,0,0,0,0,0,0,0,0,0,20,1,0,0,0,0,0,0,0,0,0,0\\nBeverages,Diet Coke (Large),30 fl oz cup,0,0,0,0,0,0,0,0,0,35,1,0,0,0,0,0,0,0,0,0,0\\nBeverages,Diet Coke (Child),12 fl oz cup,0,0,0,0,0,0,0,0,0,15,1,0,0,0,0,0,0,0,0,0,0\\nBeverages,Dr Pepper (Small),16 fl oz cup,140,0,0,0,0,0,0,0,0,45,2,37,12,0,0,35,0,0,0,0,0\\nBeverages,Dr Pepper (Medium),21 fl oz cup,190,0,0,0,0,0,0,0,0,65,3,53,18,0,0,51,0,0,0,0,0\\nBeverages,Dr Pepper (Large),30 fl oz cup,270,0,0,0,0,0,0,0,0,90,4,72,24,0,0,70,0,0,0,0,0\\nBeverages,Dr Pepper (Child),12 fl oz cup,100,0,0,0,0,0,0,0,0,30,1,27,9,0,0,26,0,0,0,0,0\\nBeverages,Diet Dr Pepper (Small),16 fl oz cup,0,0,0,0,0,0,0,0,0,70,3,0,0,0,0,0,2,0,0,0,0\\nBeverages,Diet Dr Pepper (Medium),21 fl oz cup,0,0,0,0,0,0,0,0,0,100,4,0,0,0,0,0,3,0,0,0,0\\nBeverages,Diet Dr Pepper (Large),30 fl oz cup,0,0,0,0,0,0,0,0,0,140,6,0,0,0,0,0,4,0,0,0,0\\nBeverages,Diet Dr Pepper (Child),12 fl oz cup,0,0,0,0,0,0,0,0,0,50,2,0,0,0,0,0,1,0,0,0,0\\nBeverages,Sprite (Small),16 fl oz cup,140,0,0,0,0,0,0,0,0,30,1,37,12,0,0,37,0,0,0,0,0\\nBeverages,Sprite (Medium),21 fl oz cup,200,0,0,0,0,0,0,0,0,45,2,54,18,0,0,54,0,0,0,0,0\\nBeverages,Sprite (Large),30 fl oz cup,280,0,0,0,0,0,0,0,0,60,3,74,25,0,0,74,0,0,0,0,0\\nBeverages,Sprite (Child),12 fl oz cup,100,0,0,0,0,0,0,0,0,25,1,27,9,0,0,27,0,0,0,0,0\\nBeverages,1% Low Fat Milk Jug,1 carton (236 ml),100,20,2.5,4,1.5,8,0,10,3,125,5,12,4,0,0,12,8,10,4,30,0\\nBeverages,Fat Free Chocolate Milk Jug,1 carton (236 ml),130,0,0,0,0,0,0,5,2,135,6,23,8,1,2,22,9,10,0,30,8\\nBeverages,Minute Maid 100% Apple Juice Box,6 fl oz (177 ml),80,0,0,0,0,0,0,0,0,15,1,21,7,0,0,19,0,0,100,10,0\\nBeverages,Minute Maid Orange Juice (Small),12 fl oz cup,150,0,0,0,0,0,0,0,0,0,0,34,11,0,0,30,2,0,130,2,0\\nBeverages,Minute Maid Orange Juice (Medium),16 fl oz cup,190,0,0,0,0,0,0,0,0,0,0,44,15,0,0,39,3,0,160,4,0\\nBeverages,Minute Maid Orange Juice (Large),22 fl oz cup,280,0,0,0,0,0,0,0,0,5,0,65,22,0,0,58,4,0,240,4,0\\nBeverages,Dasani Water Bottle,16.9 fl oz,0,0,0,0,0,0,0,0,0,0,0,0,0,0,0,0,0,0,0,0,0\\nCoffee & Tea,Iced Tea (Small),16 fl oz cup,0,0,0,0,0,0,0,0,0,10,0,0,0,0,0,0,0,0,0,0,0\\nCoffee & Tea,Iced Tea (Medium),21 fl oz cup,0,0,0,0,0,0,0,0,0,10,0,0,0,0,0,0,0,0,0,0,0\\nCoffee & Tea,Iced Tea (Large),30 fl oz cup,0,0,0,0,0,0,0,0,0,15,1,0,0,0,0,0,0,0,0,0,0\\nCoffee & Tea,Iced Tea (Child),12 fl oz cup,0,0,0,0,0,0,0,0,0,5,0,0,0,0,0,0,0,0,0,0,0\\nCoffee & Tea,Sweet Tea (Small),16 fl oz cup,150,0,0,0,0,0,0,0,0,10,0,36,12,0,0,36,1,0,0,0,0\\nCoffee & Tea,Sweet Tea (Medium),21 fl oz cup,180,0,0,0,0,0,0,0,0,10,0,45,15,0,0,45,1,0,0,0,0\\nCoffee & Tea,Sweet Tea (Large),30 fl oz cup,220,0,0,0,0,0,0,0,0,10,1,54,18,0,0,54,1,0,0,0,0\\nCoffee & Tea,Sweet Tea (Child),12 fl oz cup,110,0,0,0,0,0,0,0,0,5,0,27,9,0,0,27,0,0,0,0,0\\nCoffee & Tea,Coffee (Small),12 fl oz cup,0,0,0,0,0,0,0,0,0,0,0,0,0,0,0,0,0,0,0,0,0\\nCoffee & Tea,Coffee (Medium),16 fl oz cup,0,0,0,0,0,0,0,0,0,0,0,0,0,0,0,0,0,0,0,0,0\\nCoffee & Tea,Coffee (Large),16 fl oz cup,0,0,0,0,0,0,0,0,0,0,0,0,0,0,0,0,0,0,0,0,0\\nCoffee & Tea,Latte (Small),12 fl oz cup,170,80,9,13,5,24,0,25,9,115,5,15,5,1,3,12,9,8,0,30,0\\nCoffee & Tea,Latte (Medium),16 fl oz cup,210,90,10,16,6,30,0,30,11,140,6,18,6,1,4,15,11,10,0,35,0\\nCoffee & Tea,Latte (Large),20 fl oz cup,280,120,14,21,8,39,0,40,14,180,8,24,8,1,6,20,15,15,0,50,2\\nCoffee & Tea,Caramel Latte (Small),12 fl oz cup,270,80,9,13,5,24,0,25,9,115,5,40,13,1,3,38,9,8,0,30,0\\nCoffee & Tea,Caramel Latte (Medium),16 fl oz cup,340,90,10,16,6,30,0,30,11,140,6,50,17,1,4,48,11,10,0,35,0\\nCoffee & Tea,Caramel Latte (Large),20 fl oz cup,430,120,14,21,8,39,0,40,14,180,8,62,21,1,6,59,15,15,0,50,2\\nCoffee & Tea,Hazelnut Latte (Small),12 fl oz cup,270,80,9,13,5,24,0,25,9,115,5,40,13,1,3,38,9,8,0,30,0\\nCoffee & Tea,Hazelnut Latte (Medium),16 fl oz cup,330,90,10,16,6,30,0,30,11,140,6,50,17,1,4,47,11,10,0,35,0\\nCoffee & Tea,Hazelnut Latte (Large),20 fl oz cup,430,120,14,21,8,39,0,40,14,180,8,62,21,1,6,58,15,15,0,50,2\\nCoffee & Tea,French Vanilla Latte (Small),12 fl oz cup,260,80,9,13,5,24,0,25,9,115,5,38,13,1,3,36,9,8,0,30,0\\nCoffee & Tea,French Vanilla Latte (Medium),16 fl oz cup,330,90,10,16,6,30,0,30,11,140,6,48,16,1,4,45,11,10,0,35,2\\nCoffee & Tea,French Vanilla Latte (Large),20 fl oz cup,420,120,14,21,8,39,0,40,14,190,8,60,20,1,6,56,15,15,0,50,2\\nCoffee & Tea,Latte with Sugar Free French Vanilla Syrup (Small),12 fl oz cup,210,80,9,13,5,24,0,25,9,150,6,24,8,1,4,12,9,8,0,30,0\\nCoffee & Tea,Latte with Sugar Free French Vanilla Syrup (Medium),16 fl oz cup,260,90,10,16,6,30,0,30,11,190,8,29,10,1,5,15,12,10,0,35,0\\nCoffee & Tea,Latte with Sugar Free French Vanilla Syrup (Large),20 fl oz cup,330,120,14,21,8,39,0,40,14,240,10,37,12,2,7,20,15,15,0,50,2\\nCoffee & Tea,Nonfat Latte (Small),12 fl oz cup,100,0,0,0,0,0,0,5,2,110,5,15,5,1,3,13,10,10,0,30,0\\nCoffee & Tea,Nonfat Latte (Medium),16 fl oz cup,130,0,0,0,0,0,0,5,2,135,6,19,6,1,4,16,12,15,0,40,0\\nCoffee & Tea,Nonfat Latte (Large),20 fl oz cup,170,0,0.5,1,0,0,0,10,3,180,7,25,8,1,6,21,16,15,0,50,2\\nCoffee & Tea,Nonfat Caramel Latte (Small),12 fl oz cup,200,0,0,0,0,0,0,5,2,110,5,41,14,1,3,39,10,10,0,30,0\\nCoffee & Tea,Nonfat Caramel Latte (Medium),16 fl oz cup,250,0,0,0,0,0,0,5,2,135,6,51,17,1,4,48,12,15,0,40,0\\nCoffee & Tea,Nonfat Caramel Latte (Large),20 fl oz cup,310,0,0.5,1,0,0,0,10,3,180,7,63,21,1,6,59,16,15,0,50,2\\nCoffee & Tea,Nonfat Hazelnut Latte (Small),12 fl oz cup,200,0,0,0,0,0,0,5,2,110,5,40,13,1,3,38,10,10,0,30,0\\nCoffee & Tea,Nonfat Hazelnut Latte (Medium),16 fl oz cup,250,0,0,0,0,0,0,5,2,135,6,51,17,1,4,48,12,15,0,40,0\\nCoffee & Tea,Nonfat Hazelnut Latte (Large),20 fl oz cup,310,0,0.5,1,0,0,0,10,3,180,7,63,21,1,6,59,16,15,0,50,2\\nCoffee & Tea,Nonfat French Vanilla Latte (Small),12 fl oz cup,190,0,0,0,0,0,0,5,2,115,5,39,13,1,3,37,10,10,0,30,0\\nCoffee & Tea,Nonfat French Vanilla Latte (Medium),16 fl oz cup,240,0,0,0,0,0,0,5,2,140,6,49,16,1,4,46,12,15,0,40,2\\nCoffee & Tea,Nonfat French Vanilla Latte (Large),20 fl oz cup,300,0,0.5,1,0,0,0,10,3,180,8,60,20,1,6,56,16,15,0,50,2\\nCoffee & Tea,Nonfat Latte with Sugar Free French Vanilla Syrup (Small),12 fl oz cup,140,0,0,0,0,0,0,5,2,150,6,24,8,1,4,13,10,10,0,30,0\\nCoffee & Tea,Nonfat Latte with Sugar Free French Vanilla Syrup (Medium),16 fl oz cup,170,0,0,0,0,0,0,5,2,180,8,30,10,1,5,16,12,15,0,40,0\\nCoffee & Tea,Nonfat Latte with Sugar Free French Vanilla Syrup (Large),20 fl oz cup,220,0,0.5,1,0,0,0,10,3,240,10,38,13,2,7,21,16,15,0,50,2\\nCoffee & Tea,Mocha (Small),12 fl oz cup,340,100,11,18,7,34,0,35,12,150,6,49,16,2,6,42,10,10,0,30,6\\nCoffee & Tea,Mocha (Medium),16 fl oz cup,410,120,14,21,8,40,0,40,14,190,8,60,20,2,8,53,13,10,0,40,6\\nCoffee & Tea,Mocha (Large),20 fl oz cup,500,150,17,26,10,49,0.5,50,17,240,10,72,24,2,10,63,16,15,0,50,8\\nCoffee & Tea,Mocha with Nonfat Milk (Small),12 fl oz cup,270,30,3.5,5,2,11,0,15,5,150,6,49,16,2,6,43,11,10,0,35,6\\nCoffee & Tea,Mocha with Nonfat Milk (Medium),16 fl oz cup,330,30,3.5,6,2,11,0,15,5,190,8,60,20,2,8,53,13,15,0,40,6\\nCoffee & Tea,Mocha with Nonfat Milk (Large),20 fl oz cup,390,35,4,6,2.5,12,0,20,6,240,10,73,24,2,10,64,17,20,0,50,8\\nCoffee & Tea,Caramel Mocha (Small),12 fl oz cup,320,100,11,17,7,33,0,35,12,170,7,45,15,1,3,40,10,10,0,30,2\\nCoffee & Tea,Caramel Mocha (Medium),16 fl oz cup,390,120,14,21,8,40,0.5,40,14,220,9,55,18,1,4,50,12,15,0,40,2\\nCoffee & Tea,Caramel Mocha (Large),20 fl oz cup,480,150,17,26,10,49,0.5,50,17,270,11,66,22,1,5,60,16,15,0,50,4\\nCoffee & Tea,Nonfat Caramel Mocha (Small),12 fl oz cup,250,30,3.5,5,2,10,0,15,5,170,7,45,15,1,3,41,10,10,0,35,2\\nCoffee & Tea,Nonfat Caramel Mocha (Medium),16 fl oz cup,310,30,3.5,5,2,11,0,15,5,210,9,56,19,1,4,51,13,15,0,40,2\\nCoffee & Tea,Nonfat Caramel Mocha (Large),20 fl oz cup,370,35,3.5,6,2.5,11,0,20,6,270,11,67,22,1,5,61,17,20,0,50,4\\nCoffee & Tea,Hot Chocolate (Small),12 fl oz cup,360,120,13,21,8,39,0,40,14,180,8,50,17,1,3,45,11,10,0,40,6\\nCoffee & Tea,Hot Chocolate (Medium),16 fl oz cup,440,140,16,25,9,47,0.5,50,16,220,9,61,20,1,4,56,14,15,0,45,6\\nCoffee & Tea,Hot Chocolate (Large),20 fl oz cup,540,180,20,31,12,58,0.5,60,20,280,12,73,24,1,5,68,17,20,0,60,8\\nCoffee & Tea,Hot Chocolate with Nonfat Milk (Small),12 fl oz cup,280,30,3.5,5,2,11,0,15,5,180,7,50,17,1,3,46,12,15,0,40,6\\nCoffee & Tea,Hot Chocolate with Nonfat Milk (Medium),16 fl oz cup,340,30,3.5,5,2,11,0,15,6,220,9,61,20,1,4,57,14,20,0,50,6\\nCoffee & Tea,Hot Chocolate with Nonfat Milk (Large),20 fl oz cup,400,35,3.5,6,2.5,12,0,20,7,280,12,74,25,1,5,69,19,25,0,60,8\\nCoffee & Tea,Regular Iced Coffee (Small),16 fl oz cup,140,40,4.5,7,3,15,0,15,6,35,1,23,8,0,0,22,1,4,0,4,0\\nCoffee & Tea,Regular Iced Coffee (Medium),22 fl oz cup,190,60,7,11,4.5,22,0,25,9,50,2,31,10,0,0,30,1,4,0,4,0\\nCoffee & Tea,Regular Iced Coffee (Large),32 fl oz cup,270,80,9,14,6,29,0,35,12,75,3,47,16,0,0,45,2,6,0,8,0\\nCoffee & Tea,Caramel Iced Coffee (Small),16 fl oz cup,130,40,4.5,7,3,15,0,15,6,35,2,22,7,0,0,21,1,4,0,4,0\\nCoffee & Tea,Caramel Iced Coffee (Medium),22 fl oz cup,180,60,7,11,4.5,22,0,25,9,50,2,29,10,0,0,28,1,4,0,4,0\\nCoffee & Tea,Caramel Iced Coffee (Large),32 fl oz cup,260,80,9,14,6,29,0,35,12,65,3,43,14,0,0,42,2,6,0,6,0\\nCoffee & Tea,Hazelnut Iced Coffee (Small),16 fl oz cup,130,40,4.5,7,3,15,0,15,6,35,1,21,7,0,0,20,1,4,0,4,0\\nCoffee & Tea,Hazelnut Iced Coffee (Medium),22 fl oz cup,180,60,7,11,4.5,22,0,25,9,50,2,29,10,0,0,28,1,4,0,4,0\\nCoffee & Tea,Hazelnut Iced Coffee (Large),32 fl oz cup,250,80,9,14,6,29,0,35,12,75,3,43,14,0,0,41,2,6,0,8,0\\nCoffee & Tea,French Vanilla Iced Coffee (Small),16 fl oz cup,120,40,4.5,7,3,15,0,15,6,40,2,20,7,0,0,19,1,4,0,4,0\\nCoffee & Tea,French Vanilla Iced Coffee (Medium),22 fl oz cup,170,60,7,11,4.5,22,0,25,9,55,2,27,9,0,0,26,1,4,0,4,0\\nCoffee & Tea,French Vanilla Iced Coffee (Large),32 fl oz cup,240,80,9,14,6,29,0,35,12,80,3,41,14,0,0,39,2,6,0,8,0\\nCoffee & Tea,Iced Coffee with Sugar Free French Vanilla Syrup (Small),16 fl oz cup,80,40,4.5,7,3,15,0,15,6,65,3,9,3,0,0,1,1,4,0,4,0\\nCoffee & Tea,Iced Coffee with Sugar Free French Vanilla Syrup (Medium),22 fl oz cup,120,60,7,11,4.5,22,0,25,9,90,4,12,4,0,0,2,1,4,0,4,0\\nCoffee & Tea,Iced Coffee with Sugar Free French Vanilla Syrup (Large),32 fl oz cup,160,80,9,14,6,29,0,35,12,135,6,18,6,0,0,2,2,6,0,8,0\\nCoffee & Tea,Iced Mocha (Small),12 fl oz cup,290,100,11,17,7,33,0,35,12,125,5,41,14,1,4,34,8,10,0,25,4\\nCoffee & Tea,Iced Mocha (Medium),16 fl oz cup,350,110,13,19,8,38,0,40,13,150,6,50,17,1,5,43,9,10,0,30,6\\nCoffee & Tea,Iced Mocha (Large),22 fl oz cup,480,150,16,25,10,49,0.5,50,17,220,9,70,23,2,8,62,14,15,0,40,8\\nCoffee & Tea,Iced Mocha with Nonfat Milk (Small),12 fl oz cup,240,45,5,8,3,16,0,20,7,125,5,41,14,1,4,35,8,10,0,25,4\\nCoffee & Tea,Iced Mocha with Nonfat Milk (Medium),16 fl oz cup,290,45,5,8,3.5,17,0,20,7,150,6,50,17,1,5,43,10,15,0,30,6\\nCoffee & Tea,Iced Mocha with Nonfat Milk (Large),22 fl oz cup,390,50,6,9,3.5,18,0,25,8,220,9,71,24,2,8,62,14,20,0,45,8\\nCoffee & Tea,Iced Caramel Mocha (Small),12 fl oz cup,280,100,11,17,7,33,0,35,12,140,6,38,13,0,0,33,8,10,0,25,2\\nCoffee & Tea,Iced Caramel Mocha (Medium),16 fl oz cup,340,110,13,19,7,37,0,40,13,170,7,46,15,1,2,41,9,10,0,30,2\\nCoffee & Tea,Iced Caramel Mocha (Large),22 fl oz cup,460,150,16,25,10,48,0.5,50,17,250,10,65,22,1,3,59,13,15,0,40,4\\nCoffee & Tea,Iced Nonfat Caramel Mocha (Small),12 fl oz cup,230,45,5,8,3,16,0,20,7,140,6,38,13,0,0,33,8,10,0,25,2\\nCoffee & Tea,Iced Nonfat Caramel Mocha (Medium),16 fl oz cup,270,45,5,8,3,16,0,20,7,170,7,47,16,1,2,41,10,15,0,30,2\\nCoffee & Tea,Iced Nonfat Caramel Mocha (Large),22 fl oz cup,370,50,6,8,3.5,17,0,25,8,250,10,65,22,1,3,59,14,20,0,45,4\\nCoffee & Tea,Frapp\\xc3\\xa9 Mocha (Small),12 fl oz cup,450,160,18,28,12,59,1,65,21,125,5,65,22,1,3,57,7,15,0,20,4\\nCoffee & Tea,Frapp\\xc3\\xa9 Mocha (Medium),16 fl oz cup,550,200,22,34,14,71,1,75,25,160,7,80,27,1,4,71,9,15,0,25,4\\nCoffee & Tea,Frapp\\xc3\\xa9 Mocha (Large),22 fl oz cup,670,240,26,41,17,85,1,90,30,190,8,98,33,1,4,88,11,20,0,35,4\\nCoffee & Tea,Frapp\\xc3\\xa9 Caramel (Small),12 fl oz cup,450,170,19,29,12,60,1,65,22,125,5,64,21,0,0,57,7,15,0,25,2\\nCoffee & Tea,Frapp\\xc3\\xa9 Caramel (Medium),16 fl oz cup,550,200,23,35,15,73,1,80,27,160,7,79,26,0,0,71,9,20,0,30,2\\nCoffee & Tea,Frapp\\xc3\\xa9 Caramel (Large),22 fl oz cup,670,250,27,42,17,87,1.5,95,32,190,8,96,32,0,0,88,11,20,0,35,2\\nCoffee & Tea,Frapp\\xc3\\xa9 Chocolate Chip (Small),12 fl oz cup,530,200,23,35,14,72,1,65,22,135,6,76,25,1,5,67,8,15,0,25,4\\nCoffee & Tea,Frapp\\xc3\\xa9 Chocolate Chip (Medium),16 fl oz cup,630,240,26,41,17,85,1,80,26,160,7,91,30,1,5,81,9,15,0,30,4\\nCoffee & Tea,Frapp\\xc3\\xa9 Chocolate Chip (Large),22 fl oz cup,760,280,31,48,20,101,1.5,95,32,200,8,111,37,1,5,99,12,20,0,35,6\\nSmoothies & Shakes,Blueberry Pomegranate Smoothie (Small),12 fl oz cup,220,5,0.5,1,0,0,0,5,1,40,2,50,17,3,12,44,2,0,2,6,2\\nSmoothies & Shakes,Blueberry Pomegranate Smoothie (Medium),16 fl oz cup,260,5,1,1,0,0,0,5,1,50,2,62,21,4,15,54,3,0,4,8,2\\nSmoothies & Shakes,Blueberry Pomegranate Smoothie (Large),22 fl oz cup,340,10,1,2,0.5,3,0,5,2,65,3,79,26,5,19,70,4,0,4,10,2\\nSmoothies & Shakes,Strawberry Banana Smoothie (Small),12 fl oz cup,210,5,0.5,1,0,0,0,5,1,50,2,47,16,3,10,44,3,0,30,8,2\\nSmoothies & Shakes,Strawberry Banana Smoothie (Medium),16 fl oz cup,250,5,1,1,0,0,0,5,1,60,2,58,19,3,13,54,4,0,35,8,4\\nSmoothies & Shakes,Strawberry Banana Smoothie (Large),22 fl oz cup,330,10,1,2,0.5,3,0,5,2,80,3,74,25,4,16,70,5,0,45,10,4\\nSmoothies & Shakes,Mango Pineapple Smoothie (Small),12 fl oz cup,210,5,0.5,1,0,0,0,5,1,40,2,50,17,1,4,46,2,30,20,8,2\\nSmoothies & Shakes,Mango Pineapple Smoothie (Medium),16 fl oz cup,260,10,1,1,0,0,0,5,1,45,2,61,20,1,5,56,3,40,25,8,2\\nSmoothies & Shakes,Mango Pineapple Smoothie (Large),22 fl oz cup,340,10,1,2,0.5,3,0,5,2,60,3,78,26,2,6,72,4,50,30,10,2\\nSmoothies & Shakes,Vanilla Shake (Small),12 fl oz cup,530,140,15,24,10,49,1,60,20,160,7,86,29,0,0,63,11,20,0,40,0\\nSmoothies & Shakes,Vanilla Shake (Medium),16 fl oz cup,660,170,19,29,12,61,1,75,24,200,9,109,36,0,0,81,14,25,0,50,0\\nSmoothies & Shakes,Vanilla Shake (Large),22 fl oz cup,820,210,23,35,15,73,1,90,29,260,11,135,45,0,0,101,18,30,0,60,0\\nSmoothies & Shakes,Strawberry Shake (Small),12 fl oz cup,550,150,16,25,10,52,1,60,21,160,7,90,30,0,0,79,12,20,0,40,0\\nSmoothies & Shakes,Strawberry Shake (Medium),16 fl oz cup,690,180,20,30,13,63,1,75,25,210,9,114,38,0,0,100,15,25,0,50,0\\nSmoothies & Shakes,Strawberry Shake (Large),22 fl oz cup,850,210,24,36,15,75,1,90,30,260,11,140,47,0,0,123,18,30,0,70,0\\nSmoothies & Shakes,Chocolate Shake (Small),12 fl oz cup,560,150,16,25,10,51,1,60,20,240,10,91,30,1,5,77,12,20,0,40,8\\nSmoothies & Shakes,Chocolate Shake (Medium),16 fl oz cup,700,180,20,30,12,62,1,75,24,300,13,114,38,2,6,97,15,25,0,50,10\\nSmoothies & Shakes,Chocolate Shake (Large),22 fl oz cup,850,210,23,36,15,74,1,85,29,380,16,141,47,2,8,120,19,30,0,60,15\\nSmoothies & Shakes,Shamrock Shake (Medium),16 fl oz cup,660,170,19,29,12,61,1,75,24,210,9,109,36,0,0,93,14,25,0,50,0\\nSmoothies & Shakes,Shamrock Shake (Large),22 fl oz cup,820,210,23,35,15,73,1,90,29,260,11,135,45,0,0,115,18,30,0,60,0\\nSmoothies & Shakes,McFlurry with M&M\\xe2\\x80\\x99s Candies (Small),10.9 oz (310 g),650,210,23,35,14,72,0.5,50,17,180,7,96,32,1,6,89,13,15,0,45,8\\nSmoothies & Shakes,McFlurry with M&M\\xe2\\x80\\x99s Candies (Medium),16.2 oz (460 g),930,290,33,50,20,102,1,75,25,260,11,139,46,2,7,128,20,25,0,70,10\\nSmoothies & Shakes,McFlurry with M&M\\xe2\\x80\\x99s Candies (Snack),7.3 oz (207 g),430,140,15,24,10,48,0,35,11,120,5,64,21,1,4,59,9,10,0,30,4\\nSmoothies & Shakes,McFlurry with Oreo Cookies (Small),10.1 oz (285 g),510,150,17,26,9,44,0.5,45,14,280,12,80,27,1,4,64,12,15,0,40,8\\nSmoothies & Shakes,McFlurry with Oreo Cookies (Medium),13.4 oz (381 g),690,200,23,35,12,58,1,55,19,380,16,106,35,1,5,85,15,20,0,50,10\\nSmoothies & Shakes,McFlurry with Oreo Cookies (Snack),6.7 oz (190 g),340,100,11,17,6,29,0,30,9,190,8,53,18,1,2,43,8,10,0,25,6\\nSmoothies & Shakes,McFlurry with Reese\\'s Peanut Butter Cups (Medium),14.2 oz (403 g),810,290,32,50,15,76,1,60,20,400,17,114,38,2,9,103,21,20,0,60,6\\nSmoothies & Shakes,McFlurry with Reese\\'s Peanut Butter Cups (Snack),7.1 oz (202 g),410,150,16,25,8,38,0,30,10,200,8,57,19,1,5,51,10,10,0,30,4\\n'}"
            ]
          },
          "metadata": {
            "tags": []
          },
          "execution_count": 7
        }
      ]
    },
    {
      "cell_type": "code",
      "metadata": {
        "id": "0xD8H1EMQYPN"
      },
      "source": [
        "mcd_menu = pd.read_csv('menu.csv')"
      ],
      "execution_count": null,
      "outputs": []
    },
    {
      "cell_type": "code",
      "metadata": {
        "colab": {
          "base_uri": "https://localhost:8080/",
          "height": 1000
        },
        "id": "0St82vmfUl61",
        "outputId": "4a095436-ce32-4c0e-9661-d890bba8d0cb"
      },
      "source": [
        "mcd_menu"
      ],
      "execution_count": null,
      "outputs": [
        {
          "output_type": "execute_result",
          "data": {
            "text/html": [
              "<div>\n",
              "<style scoped>\n",
              "    .dataframe tbody tr th:only-of-type {\n",
              "        vertical-align: middle;\n",
              "    }\n",
              "\n",
              "    .dataframe tbody tr th {\n",
              "        vertical-align: top;\n",
              "    }\n",
              "\n",
              "    .dataframe thead th {\n",
              "        text-align: right;\n",
              "    }\n",
              "</style>\n",
              "<table border=\"1\" class=\"dataframe\">\n",
              "  <thead>\n",
              "    <tr style=\"text-align: right;\">\n",
              "      <th></th>\n",
              "      <th>Category</th>\n",
              "      <th>Item</th>\n",
              "      <th>Serving Size</th>\n",
              "      <th>Calories</th>\n",
              "      <th>Calories from Fat</th>\n",
              "      <th>Total Fat</th>\n",
              "      <th>Total Fat (% Daily Value)</th>\n",
              "      <th>Saturated Fat</th>\n",
              "      <th>Saturated Fat (% Daily Value)</th>\n",
              "      <th>Trans Fat</th>\n",
              "      <th>Cholesterol</th>\n",
              "      <th>Cholesterol (% Daily Value)</th>\n",
              "      <th>Sodium</th>\n",
              "      <th>Sodium (% Daily Value)</th>\n",
              "      <th>Carbohydrates</th>\n",
              "      <th>Carbohydrates (% Daily Value)</th>\n",
              "      <th>Dietary Fiber</th>\n",
              "      <th>Dietary Fiber (% Daily Value)</th>\n",
              "      <th>Sugars</th>\n",
              "      <th>Protein</th>\n",
              "      <th>Vitamin A (% Daily Value)</th>\n",
              "      <th>Vitamin C (% Daily Value)</th>\n",
              "      <th>Calcium (% Daily Value)</th>\n",
              "      <th>Iron (% Daily Value)</th>\n",
              "    </tr>\n",
              "  </thead>\n",
              "  <tbody>\n",
              "    <tr>\n",
              "      <th>0</th>\n",
              "      <td>Breakfast</td>\n",
              "      <td>Egg McMuffin</td>\n",
              "      <td>4.8 oz (136 g)</td>\n",
              "      <td>300</td>\n",
              "      <td>120</td>\n",
              "      <td>13.0</td>\n",
              "      <td>20</td>\n",
              "      <td>5.0</td>\n",
              "      <td>25</td>\n",
              "      <td>0.0</td>\n",
              "      <td>260</td>\n",
              "      <td>87</td>\n",
              "      <td>750</td>\n",
              "      <td>31</td>\n",
              "      <td>31</td>\n",
              "      <td>10</td>\n",
              "      <td>4</td>\n",
              "      <td>17</td>\n",
              "      <td>3</td>\n",
              "      <td>17</td>\n",
              "      <td>10</td>\n",
              "      <td>0</td>\n",
              "      <td>25</td>\n",
              "      <td>15</td>\n",
              "    </tr>\n",
              "    <tr>\n",
              "      <th>1</th>\n",
              "      <td>Breakfast</td>\n",
              "      <td>Egg White Delight</td>\n",
              "      <td>4.8 oz (135 g)</td>\n",
              "      <td>250</td>\n",
              "      <td>70</td>\n",
              "      <td>8.0</td>\n",
              "      <td>12</td>\n",
              "      <td>3.0</td>\n",
              "      <td>15</td>\n",
              "      <td>0.0</td>\n",
              "      <td>25</td>\n",
              "      <td>8</td>\n",
              "      <td>770</td>\n",
              "      <td>32</td>\n",
              "      <td>30</td>\n",
              "      <td>10</td>\n",
              "      <td>4</td>\n",
              "      <td>17</td>\n",
              "      <td>3</td>\n",
              "      <td>18</td>\n",
              "      <td>6</td>\n",
              "      <td>0</td>\n",
              "      <td>25</td>\n",
              "      <td>8</td>\n",
              "    </tr>\n",
              "    <tr>\n",
              "      <th>2</th>\n",
              "      <td>Breakfast</td>\n",
              "      <td>Sausage McMuffin</td>\n",
              "      <td>3.9 oz (111 g)</td>\n",
              "      <td>370</td>\n",
              "      <td>200</td>\n",
              "      <td>23.0</td>\n",
              "      <td>35</td>\n",
              "      <td>8.0</td>\n",
              "      <td>42</td>\n",
              "      <td>0.0</td>\n",
              "      <td>45</td>\n",
              "      <td>15</td>\n",
              "      <td>780</td>\n",
              "      <td>33</td>\n",
              "      <td>29</td>\n",
              "      <td>10</td>\n",
              "      <td>4</td>\n",
              "      <td>17</td>\n",
              "      <td>2</td>\n",
              "      <td>14</td>\n",
              "      <td>8</td>\n",
              "      <td>0</td>\n",
              "      <td>25</td>\n",
              "      <td>10</td>\n",
              "    </tr>\n",
              "    <tr>\n",
              "      <th>3</th>\n",
              "      <td>Breakfast</td>\n",
              "      <td>Sausage McMuffin with Egg</td>\n",
              "      <td>5.7 oz (161 g)</td>\n",
              "      <td>450</td>\n",
              "      <td>250</td>\n",
              "      <td>28.0</td>\n",
              "      <td>43</td>\n",
              "      <td>10.0</td>\n",
              "      <td>52</td>\n",
              "      <td>0.0</td>\n",
              "      <td>285</td>\n",
              "      <td>95</td>\n",
              "      <td>860</td>\n",
              "      <td>36</td>\n",
              "      <td>30</td>\n",
              "      <td>10</td>\n",
              "      <td>4</td>\n",
              "      <td>17</td>\n",
              "      <td>2</td>\n",
              "      <td>21</td>\n",
              "      <td>15</td>\n",
              "      <td>0</td>\n",
              "      <td>30</td>\n",
              "      <td>15</td>\n",
              "    </tr>\n",
              "    <tr>\n",
              "      <th>4</th>\n",
              "      <td>Breakfast</td>\n",
              "      <td>Sausage McMuffin with Egg Whites</td>\n",
              "      <td>5.7 oz (161 g)</td>\n",
              "      <td>400</td>\n",
              "      <td>210</td>\n",
              "      <td>23.0</td>\n",
              "      <td>35</td>\n",
              "      <td>8.0</td>\n",
              "      <td>42</td>\n",
              "      <td>0.0</td>\n",
              "      <td>50</td>\n",
              "      <td>16</td>\n",
              "      <td>880</td>\n",
              "      <td>37</td>\n",
              "      <td>30</td>\n",
              "      <td>10</td>\n",
              "      <td>4</td>\n",
              "      <td>17</td>\n",
              "      <td>2</td>\n",
              "      <td>21</td>\n",
              "      <td>6</td>\n",
              "      <td>0</td>\n",
              "      <td>25</td>\n",
              "      <td>10</td>\n",
              "    </tr>\n",
              "    <tr>\n",
              "      <th>...</th>\n",
              "      <td>...</td>\n",
              "      <td>...</td>\n",
              "      <td>...</td>\n",
              "      <td>...</td>\n",
              "      <td>...</td>\n",
              "      <td>...</td>\n",
              "      <td>...</td>\n",
              "      <td>...</td>\n",
              "      <td>...</td>\n",
              "      <td>...</td>\n",
              "      <td>...</td>\n",
              "      <td>...</td>\n",
              "      <td>...</td>\n",
              "      <td>...</td>\n",
              "      <td>...</td>\n",
              "      <td>...</td>\n",
              "      <td>...</td>\n",
              "      <td>...</td>\n",
              "      <td>...</td>\n",
              "      <td>...</td>\n",
              "      <td>...</td>\n",
              "      <td>...</td>\n",
              "      <td>...</td>\n",
              "      <td>...</td>\n",
              "    </tr>\n",
              "    <tr>\n",
              "      <th>255</th>\n",
              "      <td>Smoothies &amp; Shakes</td>\n",
              "      <td>McFlurry with Oreo Cookies (Small)</td>\n",
              "      <td>10.1 oz (285 g)</td>\n",
              "      <td>510</td>\n",
              "      <td>150</td>\n",
              "      <td>17.0</td>\n",
              "      <td>26</td>\n",
              "      <td>9.0</td>\n",
              "      <td>44</td>\n",
              "      <td>0.5</td>\n",
              "      <td>45</td>\n",
              "      <td>14</td>\n",
              "      <td>280</td>\n",
              "      <td>12</td>\n",
              "      <td>80</td>\n",
              "      <td>27</td>\n",
              "      <td>1</td>\n",
              "      <td>4</td>\n",
              "      <td>64</td>\n",
              "      <td>12</td>\n",
              "      <td>15</td>\n",
              "      <td>0</td>\n",
              "      <td>40</td>\n",
              "      <td>8</td>\n",
              "    </tr>\n",
              "    <tr>\n",
              "      <th>256</th>\n",
              "      <td>Smoothies &amp; Shakes</td>\n",
              "      <td>McFlurry with Oreo Cookies (Medium)</td>\n",
              "      <td>13.4 oz (381 g)</td>\n",
              "      <td>690</td>\n",
              "      <td>200</td>\n",
              "      <td>23.0</td>\n",
              "      <td>35</td>\n",
              "      <td>12.0</td>\n",
              "      <td>58</td>\n",
              "      <td>1.0</td>\n",
              "      <td>55</td>\n",
              "      <td>19</td>\n",
              "      <td>380</td>\n",
              "      <td>16</td>\n",
              "      <td>106</td>\n",
              "      <td>35</td>\n",
              "      <td>1</td>\n",
              "      <td>5</td>\n",
              "      <td>85</td>\n",
              "      <td>15</td>\n",
              "      <td>20</td>\n",
              "      <td>0</td>\n",
              "      <td>50</td>\n",
              "      <td>10</td>\n",
              "    </tr>\n",
              "    <tr>\n",
              "      <th>257</th>\n",
              "      <td>Smoothies &amp; Shakes</td>\n",
              "      <td>McFlurry with Oreo Cookies (Snack)</td>\n",
              "      <td>6.7 oz (190 g)</td>\n",
              "      <td>340</td>\n",
              "      <td>100</td>\n",
              "      <td>11.0</td>\n",
              "      <td>17</td>\n",
              "      <td>6.0</td>\n",
              "      <td>29</td>\n",
              "      <td>0.0</td>\n",
              "      <td>30</td>\n",
              "      <td>9</td>\n",
              "      <td>190</td>\n",
              "      <td>8</td>\n",
              "      <td>53</td>\n",
              "      <td>18</td>\n",
              "      <td>1</td>\n",
              "      <td>2</td>\n",
              "      <td>43</td>\n",
              "      <td>8</td>\n",
              "      <td>10</td>\n",
              "      <td>0</td>\n",
              "      <td>25</td>\n",
              "      <td>6</td>\n",
              "    </tr>\n",
              "    <tr>\n",
              "      <th>258</th>\n",
              "      <td>Smoothies &amp; Shakes</td>\n",
              "      <td>McFlurry with Reese's Peanut Butter Cups (Medium)</td>\n",
              "      <td>14.2 oz (403 g)</td>\n",
              "      <td>810</td>\n",
              "      <td>290</td>\n",
              "      <td>32.0</td>\n",
              "      <td>50</td>\n",
              "      <td>15.0</td>\n",
              "      <td>76</td>\n",
              "      <td>1.0</td>\n",
              "      <td>60</td>\n",
              "      <td>20</td>\n",
              "      <td>400</td>\n",
              "      <td>17</td>\n",
              "      <td>114</td>\n",
              "      <td>38</td>\n",
              "      <td>2</td>\n",
              "      <td>9</td>\n",
              "      <td>103</td>\n",
              "      <td>21</td>\n",
              "      <td>20</td>\n",
              "      <td>0</td>\n",
              "      <td>60</td>\n",
              "      <td>6</td>\n",
              "    </tr>\n",
              "    <tr>\n",
              "      <th>259</th>\n",
              "      <td>Smoothies &amp; Shakes</td>\n",
              "      <td>McFlurry with Reese's Peanut Butter Cups (Snack)</td>\n",
              "      <td>7.1 oz (202 g)</td>\n",
              "      <td>410</td>\n",
              "      <td>150</td>\n",
              "      <td>16.0</td>\n",
              "      <td>25</td>\n",
              "      <td>8.0</td>\n",
              "      <td>38</td>\n",
              "      <td>0.0</td>\n",
              "      <td>30</td>\n",
              "      <td>10</td>\n",
              "      <td>200</td>\n",
              "      <td>8</td>\n",
              "      <td>57</td>\n",
              "      <td>19</td>\n",
              "      <td>1</td>\n",
              "      <td>5</td>\n",
              "      <td>51</td>\n",
              "      <td>10</td>\n",
              "      <td>10</td>\n",
              "      <td>0</td>\n",
              "      <td>30</td>\n",
              "      <td>4</td>\n",
              "    </tr>\n",
              "  </tbody>\n",
              "</table>\n",
              "<p>260 rows × 24 columns</p>\n",
              "</div>"
            ],
            "text/plain": [
              "               Category  ... Iron (% Daily Value)\n",
              "0             Breakfast  ...                   15\n",
              "1             Breakfast  ...                    8\n",
              "2             Breakfast  ...                   10\n",
              "3             Breakfast  ...                   15\n",
              "4             Breakfast  ...                   10\n",
              "..                  ...  ...                  ...\n",
              "255  Smoothies & Shakes  ...                    8\n",
              "256  Smoothies & Shakes  ...                   10\n",
              "257  Smoothies & Shakes  ...                    6\n",
              "258  Smoothies & Shakes  ...                    6\n",
              "259  Smoothies & Shakes  ...                    4\n",
              "\n",
              "[260 rows x 24 columns]"
            ]
          },
          "metadata": {
            "tags": []
          },
          "execution_count": 8
        }
      ]
    },
    {
      "cell_type": "code",
      "metadata": {
        "colab": {
          "base_uri": "https://localhost:8080/",
          "height": 368
        },
        "id": "SB0xx_3mrFSZ",
        "outputId": "6ec0169a-efa2-4d6c-f51a-5b154f9f1e34"
      },
      "source": [
        "#understand the stats of the data\n",
        "mcd_menu.describe()"
      ],
      "execution_count": null,
      "outputs": [
        {
          "output_type": "execute_result",
          "data": {
            "text/html": [
              "<div>\n",
              "<style scoped>\n",
              "    .dataframe tbody tr th:only-of-type {\n",
              "        vertical-align: middle;\n",
              "    }\n",
              "\n",
              "    .dataframe tbody tr th {\n",
              "        vertical-align: top;\n",
              "    }\n",
              "\n",
              "    .dataframe thead th {\n",
              "        text-align: right;\n",
              "    }\n",
              "</style>\n",
              "<table border=\"1\" class=\"dataframe\">\n",
              "  <thead>\n",
              "    <tr style=\"text-align: right;\">\n",
              "      <th></th>\n",
              "      <th>Calories</th>\n",
              "      <th>Calories from Fat</th>\n",
              "      <th>Total Fat</th>\n",
              "      <th>Total Fat (% Daily Value)</th>\n",
              "      <th>Saturated Fat</th>\n",
              "      <th>Saturated Fat (% Daily Value)</th>\n",
              "      <th>Trans Fat</th>\n",
              "      <th>Cholesterol</th>\n",
              "      <th>Cholesterol (% Daily Value)</th>\n",
              "      <th>Sodium</th>\n",
              "      <th>Sodium (% Daily Value)</th>\n",
              "      <th>Carbohydrates</th>\n",
              "      <th>Carbohydrates (% Daily Value)</th>\n",
              "      <th>Dietary Fiber</th>\n",
              "      <th>Dietary Fiber (% Daily Value)</th>\n",
              "      <th>Sugars</th>\n",
              "      <th>Protein</th>\n",
              "      <th>Vitamin A (% Daily Value)</th>\n",
              "      <th>Vitamin C (% Daily Value)</th>\n",
              "      <th>Calcium (% Daily Value)</th>\n",
              "      <th>Iron (% Daily Value)</th>\n",
              "    </tr>\n",
              "  </thead>\n",
              "  <tbody>\n",
              "    <tr>\n",
              "      <th>count</th>\n",
              "      <td>260.000000</td>\n",
              "      <td>260.000000</td>\n",
              "      <td>260.000000</td>\n",
              "      <td>260.000000</td>\n",
              "      <td>260.000000</td>\n",
              "      <td>260.000000</td>\n",
              "      <td>260.000000</td>\n",
              "      <td>260.000000</td>\n",
              "      <td>260.000000</td>\n",
              "      <td>260.000000</td>\n",
              "      <td>260.000000</td>\n",
              "      <td>260.000000</td>\n",
              "      <td>260.000000</td>\n",
              "      <td>260.000000</td>\n",
              "      <td>260.000000</td>\n",
              "      <td>260.000000</td>\n",
              "      <td>260.000000</td>\n",
              "      <td>260.000000</td>\n",
              "      <td>260.000000</td>\n",
              "      <td>260.000000</td>\n",
              "      <td>260.000000</td>\n",
              "    </tr>\n",
              "    <tr>\n",
              "      <th>mean</th>\n",
              "      <td>368.269231</td>\n",
              "      <td>127.096154</td>\n",
              "      <td>14.165385</td>\n",
              "      <td>21.815385</td>\n",
              "      <td>6.007692</td>\n",
              "      <td>29.965385</td>\n",
              "      <td>0.203846</td>\n",
              "      <td>54.942308</td>\n",
              "      <td>18.392308</td>\n",
              "      <td>495.750000</td>\n",
              "      <td>20.676923</td>\n",
              "      <td>47.346154</td>\n",
              "      <td>15.780769</td>\n",
              "      <td>1.630769</td>\n",
              "      <td>6.530769</td>\n",
              "      <td>29.423077</td>\n",
              "      <td>13.338462</td>\n",
              "      <td>13.426923</td>\n",
              "      <td>8.534615</td>\n",
              "      <td>20.973077</td>\n",
              "      <td>7.734615</td>\n",
              "    </tr>\n",
              "    <tr>\n",
              "      <th>std</th>\n",
              "      <td>240.269886</td>\n",
              "      <td>127.875914</td>\n",
              "      <td>14.205998</td>\n",
              "      <td>21.885199</td>\n",
              "      <td>5.321873</td>\n",
              "      <td>26.639209</td>\n",
              "      <td>0.429133</td>\n",
              "      <td>87.269257</td>\n",
              "      <td>29.091653</td>\n",
              "      <td>577.026323</td>\n",
              "      <td>24.034954</td>\n",
              "      <td>28.252232</td>\n",
              "      <td>9.419544</td>\n",
              "      <td>1.567717</td>\n",
              "      <td>6.307057</td>\n",
              "      <td>28.679797</td>\n",
              "      <td>11.426146</td>\n",
              "      <td>24.366381</td>\n",
              "      <td>26.345542</td>\n",
              "      <td>17.019953</td>\n",
              "      <td>8.723263</td>\n",
              "    </tr>\n",
              "    <tr>\n",
              "      <th>min</th>\n",
              "      <td>0.000000</td>\n",
              "      <td>0.000000</td>\n",
              "      <td>0.000000</td>\n",
              "      <td>0.000000</td>\n",
              "      <td>0.000000</td>\n",
              "      <td>0.000000</td>\n",
              "      <td>0.000000</td>\n",
              "      <td>0.000000</td>\n",
              "      <td>0.000000</td>\n",
              "      <td>0.000000</td>\n",
              "      <td>0.000000</td>\n",
              "      <td>0.000000</td>\n",
              "      <td>0.000000</td>\n",
              "      <td>0.000000</td>\n",
              "      <td>0.000000</td>\n",
              "      <td>0.000000</td>\n",
              "      <td>0.000000</td>\n",
              "      <td>0.000000</td>\n",
              "      <td>0.000000</td>\n",
              "      <td>0.000000</td>\n",
              "      <td>0.000000</td>\n",
              "    </tr>\n",
              "    <tr>\n",
              "      <th>25%</th>\n",
              "      <td>210.000000</td>\n",
              "      <td>20.000000</td>\n",
              "      <td>2.375000</td>\n",
              "      <td>3.750000</td>\n",
              "      <td>1.000000</td>\n",
              "      <td>4.750000</td>\n",
              "      <td>0.000000</td>\n",
              "      <td>5.000000</td>\n",
              "      <td>2.000000</td>\n",
              "      <td>107.500000</td>\n",
              "      <td>4.750000</td>\n",
              "      <td>30.000000</td>\n",
              "      <td>10.000000</td>\n",
              "      <td>0.000000</td>\n",
              "      <td>0.000000</td>\n",
              "      <td>5.750000</td>\n",
              "      <td>4.000000</td>\n",
              "      <td>2.000000</td>\n",
              "      <td>0.000000</td>\n",
              "      <td>6.000000</td>\n",
              "      <td>0.000000</td>\n",
              "    </tr>\n",
              "    <tr>\n",
              "      <th>50%</th>\n",
              "      <td>340.000000</td>\n",
              "      <td>100.000000</td>\n",
              "      <td>11.000000</td>\n",
              "      <td>17.000000</td>\n",
              "      <td>5.000000</td>\n",
              "      <td>24.000000</td>\n",
              "      <td>0.000000</td>\n",
              "      <td>35.000000</td>\n",
              "      <td>11.000000</td>\n",
              "      <td>190.000000</td>\n",
              "      <td>8.000000</td>\n",
              "      <td>44.000000</td>\n",
              "      <td>15.000000</td>\n",
              "      <td>1.000000</td>\n",
              "      <td>5.000000</td>\n",
              "      <td>17.500000</td>\n",
              "      <td>12.000000</td>\n",
              "      <td>8.000000</td>\n",
              "      <td>0.000000</td>\n",
              "      <td>20.000000</td>\n",
              "      <td>4.000000</td>\n",
              "    </tr>\n",
              "    <tr>\n",
              "      <th>75%</th>\n",
              "      <td>500.000000</td>\n",
              "      <td>200.000000</td>\n",
              "      <td>22.250000</td>\n",
              "      <td>35.000000</td>\n",
              "      <td>10.000000</td>\n",
              "      <td>48.000000</td>\n",
              "      <td>0.000000</td>\n",
              "      <td>65.000000</td>\n",
              "      <td>21.250000</td>\n",
              "      <td>865.000000</td>\n",
              "      <td>36.250000</td>\n",
              "      <td>60.000000</td>\n",
              "      <td>20.000000</td>\n",
              "      <td>3.000000</td>\n",
              "      <td>10.000000</td>\n",
              "      <td>48.000000</td>\n",
              "      <td>19.000000</td>\n",
              "      <td>15.000000</td>\n",
              "      <td>4.000000</td>\n",
              "      <td>30.000000</td>\n",
              "      <td>15.000000</td>\n",
              "    </tr>\n",
              "    <tr>\n",
              "      <th>max</th>\n",
              "      <td>1880.000000</td>\n",
              "      <td>1060.000000</td>\n",
              "      <td>118.000000</td>\n",
              "      <td>182.000000</td>\n",
              "      <td>20.000000</td>\n",
              "      <td>102.000000</td>\n",
              "      <td>2.500000</td>\n",
              "      <td>575.000000</td>\n",
              "      <td>192.000000</td>\n",
              "      <td>3600.000000</td>\n",
              "      <td>150.000000</td>\n",
              "      <td>141.000000</td>\n",
              "      <td>47.000000</td>\n",
              "      <td>7.000000</td>\n",
              "      <td>28.000000</td>\n",
              "      <td>128.000000</td>\n",
              "      <td>87.000000</td>\n",
              "      <td>170.000000</td>\n",
              "      <td>240.000000</td>\n",
              "      <td>70.000000</td>\n",
              "      <td>40.000000</td>\n",
              "    </tr>\n",
              "  </tbody>\n",
              "</table>\n",
              "</div>"
            ],
            "text/plain": [
              "          Calories  ...  Iron (% Daily Value)\n",
              "count   260.000000  ...            260.000000\n",
              "mean    368.269231  ...              7.734615\n",
              "std     240.269886  ...              8.723263\n",
              "min       0.000000  ...              0.000000\n",
              "25%     210.000000  ...              0.000000\n",
              "50%     340.000000  ...              4.000000\n",
              "75%     500.000000  ...             15.000000\n",
              "max    1880.000000  ...             40.000000\n",
              "\n",
              "[8 rows x 21 columns]"
            ]
          },
          "metadata": {
            "tags": []
          },
          "execution_count": 9
        }
      ]
    },
    {
      "cell_type": "code",
      "metadata": {
        "colab": {
          "base_uri": "https://localhost:8080/"
        },
        "id": "YdmxtLdyd3Et",
        "outputId": "22463698-0a22-4a82-b4d0-38fc4ffe31d1"
      },
      "source": [
        "mcd_menu.isnull().sum()# Check if there are any null values"
      ],
      "execution_count": null,
      "outputs": [
        {
          "output_type": "execute_result",
          "data": {
            "text/plain": [
              "Category                         0\n",
              "Item                             0\n",
              "Serving Size                     0\n",
              "Calories                         0\n",
              "Calories from Fat                0\n",
              "Total Fat                        0\n",
              "Total Fat (% Daily Value)        0\n",
              "Saturated Fat                    0\n",
              "Saturated Fat (% Daily Value)    0\n",
              "Trans Fat                        0\n",
              "Cholesterol                      0\n",
              "Cholesterol (% Daily Value)      0\n",
              "Sodium                           0\n",
              "Sodium (% Daily Value)           0\n",
              "Carbohydrates                    0\n",
              "Carbohydrates (% Daily Value)    0\n",
              "Dietary Fiber                    0\n",
              "Dietary Fiber (% Daily Value)    0\n",
              "Sugars                           0\n",
              "Protein                          0\n",
              "Vitamin A (% Daily Value)        0\n",
              "Vitamin C (% Daily Value)        0\n",
              "Calcium (% Daily Value)          0\n",
              "Iron (% Daily Value)             0\n",
              "dtype: int64"
            ]
          },
          "metadata": {
            "tags": []
          },
          "execution_count": 10
        }
      ]
    },
    {
      "cell_type": "code",
      "metadata": {
        "colab": {
          "base_uri": "https://localhost:8080/"
        },
        "id": "UH63k7D4U0c_",
        "outputId": "155bb9b4-a4ce-448f-f0b7-a802441f1261"
      },
      "source": [
        "mcd_menu.columns # Summarise the columns"
      ],
      "execution_count": null,
      "outputs": [
        {
          "output_type": "execute_result",
          "data": {
            "text/plain": [
              "Index(['Category', 'Item', 'Serving Size', 'Calories', 'Calories from Fat',\n",
              "       'Total Fat', 'Total Fat (% Daily Value)', 'Saturated Fat',\n",
              "       'Saturated Fat (% Daily Value)', 'Trans Fat', 'Cholesterol',\n",
              "       'Cholesterol (% Daily Value)', 'Sodium', 'Sodium (% Daily Value)',\n",
              "       'Carbohydrates', 'Carbohydrates (% Daily Value)', 'Dietary Fiber',\n",
              "       'Dietary Fiber (% Daily Value)', 'Sugars', 'Protein',\n",
              "       'Vitamin A (% Daily Value)', 'Vitamin C (% Daily Value)',\n",
              "       'Calcium (% Daily Value)', 'Iron (% Daily Value)'],\n",
              "      dtype='object')"
            ]
          },
          "metadata": {
            "tags": []
          },
          "execution_count": 11
        }
      ]
    },
    {
      "cell_type": "markdown",
      "metadata": {
        "id": "BT1RC5HCc-_Q"
      },
      "source": [
        "How many options do we have for each category in the Mcd Menu?"
      ]
    },
    {
      "cell_type": "code",
      "metadata": {
        "colab": {
          "base_uri": "https://localhost:8080/"
        },
        "id": "eI0ORcGLc-Gp",
        "outputId": "492cb635-24b2-4e6a-8683-d4bec6a4df13"
      },
      "source": [
        "#Find the unique categories along with their frequencies.\n",
        "firstData = mcd_menu['Category'].value_counts()\n",
        "print(firstData)"
      ],
      "execution_count": null,
      "outputs": [
        {
          "output_type": "stream",
          "text": [
            "Coffee & Tea          95\n",
            "Breakfast             42\n",
            "Smoothies & Shakes    28\n",
            "Beverages             27\n",
            "Chicken & Fish        27\n",
            "Beef & Pork           15\n",
            "Snacks & Sides        13\n",
            "Desserts               7\n",
            "Salads                 6\n",
            "Name: Category, dtype: int64\n"
          ],
          "name": "stdout"
        }
      ]
    },
    {
      "cell_type": "code",
      "metadata": {
        "colab": {
          "base_uri": "https://localhost:8080/"
        },
        "id": "hxePbsN8d_4n",
        "outputId": "7ae383c8-6ebe-4a2e-d78d-a10f166989d5"
      },
      "source": [
        "#plot the category vs count \n",
        "colors = ['steelblue'] \n",
        "plt.figure(figsize=(14, 5))    \n",
        "plt.hist(mcd_menu.Category ,rwidth=0.9)\n",
        "plt.xlabel(\"Category\")\n",
        "plt.ylabel(\"Count of Menu Item in the Category\")\n",
        "plt.show()"
      ],
      "execution_count": null,
      "outputs": [
        {
          "output_type": "stream",
          "text": [
            "/usr/local/lib/python3.7/dist-packages/ipykernel_launcher.py:2: RuntimeWarning: More than 20 figures have been opened. Figures created through the pyplot interface (`matplotlib.pyplot.figure`) are retained until explicitly closed and may consume too much memory. (To control this warning, see the rcParam `figure.max_open_warning`).\n",
            "  \n"
          ],
          "name": "stderr"
        }
      ]
    },
    {
      "cell_type": "markdown",
      "metadata": {
        "id": "zUiFoHHprLAL"
      },
      "source": [
        "Determine the Outliers "
      ]
    },
    {
      "cell_type": "code",
      "metadata": {
        "colab": {
          "base_uri": "https://localhost:8080/",
          "height": 500
        },
        "id": "xNszB7jYrcWF",
        "outputId": "8231cd34-2539-435f-eea2-95ed3c3b48b7"
      },
      "source": [
        "mcd_menu.boxplot(figsize=(15,5));\n",
        "plt.xticks(rotation=90)"
      ],
      "execution_count": null,
      "outputs": [
        {
          "output_type": "execute_result",
          "data": {
            "text/plain": [
              "(array([ 1,  2,  3,  4,  5,  6,  7,  8,  9, 10, 11, 12, 13, 14, 15, 16, 17,\n",
              "        18, 19, 20, 21]), <a list of 21 Text major ticklabel objects>)"
            ]
          },
          "metadata": {
            "tags": []
          },
          "execution_count": 8
        },
        {
          "output_type": "display_data",
          "data": {
            "image/png": "[encoded data removed]",
            "text/plain": [
              "<Figure size 1080x360 with 1 Axes>"
            ]
          },
          "metadata": {
            "tags": [],
            "needs_background": "light"
          }
        }
      ]
    },
    {
      "cell_type": "markdown",
      "metadata": {
        "id": "6-9MA3cFZzCh"
      },
      "source": [
        "### **HEALTHY EATING FROM McD MENU**\n",
        "\n"
      ]
    },
    {
      "cell_type": "markdown",
      "metadata": {
        "id": "QptWexqbaUv8"
      },
      "source": [
        "https://wa.kaiserpermanente.org/healthAndWellness/index.jhtml?item=%2Fcommon%2FhealthAndWellness%2Fconditions%2Fdiabetes%2FfoodBalancing.html"
      ]
    },
    {
      "cell_type": "markdown",
      "metadata": {
        "id": "aTfXgQYuaagi"
      },
      "source": [
        "\n",
        "\n",
        "1.   CALORIES BETWEEN 300-700\n",
        "2.   CHOLESTROL BETWEEN 5% TO 25%\n",
        "3.   DIETERY FIBER BETWEEN 2-5 g per meal\n",
        "\n"
      ]
    },
    {
      "cell_type": "code",
      "metadata": {
        "colab": {
          "base_uri": "https://localhost:8080/"
        },
        "id": "nKWq2eGqw5Fs",
        "outputId": "d224f4bc-211c-477a-80ea-d6115493b0e0"
      },
      "source": [
        "#menu items which satisfy the above conditions\n",
        "mask1 = (mcd_menu['Calories'] <=700) & (mcd_menu['Calories'] >=300)\n",
        "mask2 = (mcd_menu['Cholesterol (% Daily Value)'] <= 25) & (mcd_menu['Cholesterol (% Daily Value)'] >=5 )\n",
        "mask3 = (mcd_menu['Dietary Fiber'] <= 5 ) & (mcd_menu['Dietary Fiber'] >= 2 )\n",
        "mask1 & mask2 & mask3\n",
        "\n",
        "healthyMcdItems = mcd_menu[mask1 & mask2 & mask3]\n",
        "healthyMcdItems['Category'].value_counts()"
      ],
      "execution_count": null,
      "outputs": [
        {
          "output_type": "execute_result",
          "data": {
            "text/plain": [
              "Breakfast             19\n",
              "Chicken & Fish        14\n",
              "Coffee & Tea           8\n",
              "Beef & Pork            2\n",
              "Salads                 1\n",
              "Smoothies & Shakes     1\n",
              "Name: Category, dtype: int64"
            ]
          },
          "metadata": {
            "tags": []
          },
          "execution_count": 25
        }
      ]
    },
    {
      "cell_type": "code",
      "metadata": {
        "colab": {
          "base_uri": "https://localhost:8080/",
          "height": 323
        },
        "id": "9NzsrrYa0COq",
        "outputId": "09114dc1-8afa-4ecc-e0e9-cfa4de248345"
      },
      "source": [
        "colors = ['steelblue'] \n",
        "plt.figure(figsize=(14, 5))    \n",
        "plt.hist(healthyMcdItems.Category ,rwidth=0.9, color = colors)\n",
        "    \n",
        "#plt.legend(prop ={'size': 10})   \n",
        "plt.show()"
      ],
      "execution_count": null,
      "outputs": [
        {
          "output_type": "display_data",
          "data": {
            "image/png": "[encoded data removed]",
            "text/plain": [
              "<Figure size 1008x360 with 1 Axes>"
            ]
          },
          "metadata": {
            "tags": []
          }
        }
      ]
    },
    {
      "cell_type": "markdown",
      "metadata": {
        "id": "pJqKOqXt09rZ"
      },
      "source": [
        "# **HAPPY HEALTHY MEAL**\n",
        "Create a happy healthy meal by choosing 1 salad, 1 smoothie and 1 Chicken & Fish from the the results of the above query"
      ]
    },
    {
      "cell_type": "code",
      "metadata": {
        "id": "Kaep5NWK1ClK",
        "colab": {
          "base_uri": "https://localhost:8080/",
          "height": 400
        },
        "outputId": "840a26da-f1a5-416e-f974-88f229e92b5f"
      },
      "source": [
        "#choose the above items randomly from the healthyMCD Items set\n",
        "#get the data associated with Category salads\n",
        "saladMask = (healthyMcdItems['Category'] == 'Salads')\n",
        "healthysmoothieMask = (healthyMcdItems['Category'] == 'Smoothies & Shakes')\n",
        "meatMask = (healthyMcdItems['Category'] == 'Chicken & Fish')\n",
        "\n",
        "#randomly select an item to create a happy meal\n",
        "\n",
        "happyMeal = healthyMcdItems[saladMask].sample()\n",
        "\n",
        "happyMeal = happyMeal.append(healthyMcdItems[healthysmoothieMask].sample())\n",
        "\n",
        "happyMeal = happyMeal.append(healthyMcdItems[meatMask].sample())\n",
        "\n",
        "happyMeal"
      ],
      "execution_count": null,
      "outputs": [
        {
          "output_type": "execute_result",
          "data": {
            "text/html": [
              "<div>\n",
              "<style scoped>\n",
              "    .dataframe tbody tr th:only-of-type {\n",
              "        vertical-align: middle;\n",
              "    }\n",
              "\n",
              "    .dataframe tbody tr th {\n",
              "        vertical-align: top;\n",
              "    }\n",
              "\n",
              "    .dataframe thead th {\n",
              "        text-align: right;\n",
              "    }\n",
              "</style>\n",
              "<table border=\"1\" class=\"dataframe\">\n",
              "  <thead>\n",
              "    <tr style=\"text-align: right;\">\n",
              "      <th></th>\n",
              "      <th>Category</th>\n",
              "      <th>Item</th>\n",
              "      <th>Serving Size</th>\n",
              "      <th>Calories</th>\n",
              "      <th>Calories from Fat</th>\n",
              "      <th>Total Fat</th>\n",
              "      <th>Total Fat (% Daily Value)</th>\n",
              "      <th>Saturated Fat</th>\n",
              "      <th>Saturated Fat (% Daily Value)</th>\n",
              "      <th>Trans Fat</th>\n",
              "      <th>Cholesterol</th>\n",
              "      <th>Cholesterol (% Daily Value)</th>\n",
              "      <th>Sodium</th>\n",
              "      <th>Sodium (% Daily Value)</th>\n",
              "      <th>Carbohydrates</th>\n",
              "      <th>Carbohydrates (% Daily Value)</th>\n",
              "      <th>Dietary Fiber</th>\n",
              "      <th>Dietary Fiber (% Daily Value)</th>\n",
              "      <th>Sugars</th>\n",
              "      <th>Protein</th>\n",
              "      <th>Vitamin A (% Daily Value)</th>\n",
              "      <th>Vitamin C (% Daily Value)</th>\n",
              "      <th>Calcium (% Daily Value)</th>\n",
              "      <th>Iron (% Daily Value)</th>\n",
              "    </tr>\n",
              "  </thead>\n",
              "  <tbody>\n",
              "    <tr>\n",
              "      <th>85</th>\n",
              "      <td>Salads</td>\n",
              "      <td>Premium Bacon Ranch Salad with Crispy Chicken</td>\n",
              "      <td>9 oz (255 g)</td>\n",
              "      <td>380</td>\n",
              "      <td>190</td>\n",
              "      <td>21.0</td>\n",
              "      <td>33</td>\n",
              "      <td>6.0</td>\n",
              "      <td>29</td>\n",
              "      <td>0.0</td>\n",
              "      <td>70</td>\n",
              "      <td>23</td>\n",
              "      <td>860</td>\n",
              "      <td>36</td>\n",
              "      <td>22</td>\n",
              "      <td>7</td>\n",
              "      <td>2</td>\n",
              "      <td>10</td>\n",
              "      <td>5</td>\n",
              "      <td>25</td>\n",
              "      <td>100</td>\n",
              "      <td>25</td>\n",
              "      <td>15</td>\n",
              "      <td>8</td>\n",
              "    </tr>\n",
              "    <tr>\n",
              "      <th>248</th>\n",
              "      <td>Smoothies &amp; Shakes</td>\n",
              "      <td>Chocolate Shake (Medium)</td>\n",
              "      <td>16 fl oz cup</td>\n",
              "      <td>700</td>\n",
              "      <td>180</td>\n",
              "      <td>20.0</td>\n",
              "      <td>30</td>\n",
              "      <td>12.0</td>\n",
              "      <td>62</td>\n",
              "      <td>1.0</td>\n",
              "      <td>75</td>\n",
              "      <td>24</td>\n",
              "      <td>300</td>\n",
              "      <td>13</td>\n",
              "      <td>114</td>\n",
              "      <td>38</td>\n",
              "      <td>2</td>\n",
              "      <td>6</td>\n",
              "      <td>97</td>\n",
              "      <td>15</td>\n",
              "      <td>25</td>\n",
              "      <td>0</td>\n",
              "      <td>50</td>\n",
              "      <td>10</td>\n",
              "    </tr>\n",
              "    <tr>\n",
              "      <th>68</th>\n",
              "      <td>Chicken &amp; Fish</td>\n",
              "      <td>Bacon Buffalo Ranch McChicken</td>\n",
              "      <td>5.7 oz (161 g)</td>\n",
              "      <td>430</td>\n",
              "      <td>190</td>\n",
              "      <td>21.0</td>\n",
              "      <td>32</td>\n",
              "      <td>5.0</td>\n",
              "      <td>25</td>\n",
              "      <td>0.0</td>\n",
              "      <td>50</td>\n",
              "      <td>17</td>\n",
              "      <td>1260</td>\n",
              "      <td>53</td>\n",
              "      <td>41</td>\n",
              "      <td>14</td>\n",
              "      <td>2</td>\n",
              "      <td>7</td>\n",
              "      <td>6</td>\n",
              "      <td>20</td>\n",
              "      <td>2</td>\n",
              "      <td>10</td>\n",
              "      <td>15</td>\n",
              "      <td>15</td>\n",
              "    </tr>\n",
              "  </tbody>\n",
              "</table>\n",
              "</div>"
            ],
            "text/plain": [
              "               Category  ... Iron (% Daily Value)\n",
              "85               Salads  ...                    8\n",
              "248  Smoothies & Shakes  ...                   10\n",
              "68       Chicken & Fish  ...                   15\n",
              "\n",
              "[3 rows x 24 columns]"
            ]
          },
          "metadata": {
            "tags": []
          },
          "execution_count": 62
        }
      ]
    },
    {
      "cell_type": "markdown",
      "metadata": {
        "id": "iHBna5t2dlhV"
      },
      "source": [
        "# Does Coffee instead of Smoothie increase the nutrition count in consumption?"
      ]
    },
    {
      "cell_type": "code",
      "metadata": {
        "colab": {
          "base_uri": "https://localhost:8080/",
          "height": 700
        },
        "id": "06N22n-LeGv5",
        "outputId": "e740b2ca-3c2d-4ef9-c888-51fdd6f6a7fb"
      },
      "source": [
        "smoothieMask = mcd_menu['Category'] == 'Smoothies & Shakes'\n",
        "coffeeMask = mcd_menu['Category'] == 'Coffee & Tea'\n",
        "\n",
        "\n",
        "comparisonDf = pd.DataFrame()\n",
        "comparisonDf['SmoothiesContent'] = mcd_menu[smoothieMask].mean()\n",
        "comparisonDf['Coffee&Tea Content'] = mcd_menu[coffeeMask].mean()\n",
        "comparisonDf"
      ],
      "execution_count": null,
      "outputs": [
        {
          "output_type": "execute_result",
          "data": {
            "text/html": [
              "<div>\n",
              "<style scoped>\n",
              "    .dataframe tbody tr th:only-of-type {\n",
              "        vertical-align: middle;\n",
              "    }\n",
              "\n",
              "    .dataframe tbody tr th {\n",
              "        vertical-align: top;\n",
              "    }\n",
              "\n",
              "    .dataframe thead th {\n",
              "        text-align: right;\n",
              "    }\n",
              "</style>\n",
              "<table border=\"1\" class=\"dataframe\">\n",
              "  <thead>\n",
              "    <tr style=\"text-align: right;\">\n",
              "      <th></th>\n",
              "      <th>SmoothiesContent</th>\n",
              "      <th>Coffee&amp;Tea Content</th>\n",
              "    </tr>\n",
              "  </thead>\n",
              "  <tbody>\n",
              "    <tr>\n",
              "      <th>Calories</th>\n",
              "      <td>531.428571</td>\n",
              "      <td>283.894737</td>\n",
              "    </tr>\n",
              "    <tr>\n",
              "      <th>Calories from Fat</th>\n",
              "      <td>127.678571</td>\n",
              "      <td>71.105263</td>\n",
              "    </tr>\n",
              "    <tr>\n",
              "      <th>Total Fat</th>\n",
              "      <td>14.125000</td>\n",
              "      <td>8.021053</td>\n",
              "    </tr>\n",
              "    <tr>\n",
              "      <th>Total Fat (% Daily Value)</th>\n",
              "      <td>21.714286</td>\n",
              "      <td>12.357895</td>\n",
              "    </tr>\n",
              "    <tr>\n",
              "      <th>Saturated Fat</th>\n",
              "      <td>8.375000</td>\n",
              "      <td>4.921053</td>\n",
              "    </tr>\n",
              "    <tr>\n",
              "      <th>Saturated Fat (% Daily Value)</th>\n",
              "      <td>41.785714</td>\n",
              "      <td>24.368421</td>\n",
              "    </tr>\n",
              "    <tr>\n",
              "      <th>Trans Fat</th>\n",
              "      <td>0.535714</td>\n",
              "      <td>0.142105</td>\n",
              "    </tr>\n",
              "    <tr>\n",
              "      <th>Cholesterol</th>\n",
              "      <td>45.000000</td>\n",
              "      <td>27.263158</td>\n",
              "    </tr>\n",
              "    <tr>\n",
              "      <th>Cholesterol (% Daily Value)</th>\n",
              "      <td>14.714286</td>\n",
              "      <td>9.378947</td>\n",
              "    </tr>\n",
              "    <tr>\n",
              "      <th>Sodium</th>\n",
              "      <td>183.571429</td>\n",
              "      <td>136.894737</td>\n",
              "    </tr>\n",
              "    <tr>\n",
              "      <th>Sodium (% Daily Value)</th>\n",
              "      <td>7.785714</td>\n",
              "      <td>5.726316</td>\n",
              "    </tr>\n",
              "    <tr>\n",
              "      <th>Carbohydrates</th>\n",
              "      <td>90.428571</td>\n",
              "      <td>44.526316</td>\n",
              "    </tr>\n",
              "    <tr>\n",
              "      <th>Carbohydrates (% Daily Value)</th>\n",
              "      <td>30.142857</td>\n",
              "      <td>14.863158</td>\n",
              "    </tr>\n",
              "    <tr>\n",
              "      <th>Dietary Fiber</th>\n",
              "      <td>1.464286</td>\n",
              "      <td>0.778947</td>\n",
              "    </tr>\n",
              "    <tr>\n",
              "      <th>Dietary Fiber (% Daily Value)</th>\n",
              "      <td>5.750000</td>\n",
              "      <td>3.178947</td>\n",
              "    </tr>\n",
              "    <tr>\n",
              "      <th>Sugars</th>\n",
              "      <td>77.892857</td>\n",
              "      <td>39.610526</td>\n",
              "    </tr>\n",
              "    <tr>\n",
              "      <th>Protein</th>\n",
              "      <td>10.857143</td>\n",
              "      <td>8.863158</td>\n",
              "    </tr>\n",
              "    <tr>\n",
              "      <th>Vitamin A (% Daily Value)</th>\n",
              "      <td>18.750000</td>\n",
              "      <td>10.736842</td>\n",
              "    </tr>\n",
              "    <tr>\n",
              "      <th>Vitamin C (% Daily Value)</th>\n",
              "      <td>6.964286</td>\n",
              "      <td>0.000000</td>\n",
              "    </tr>\n",
              "    <tr>\n",
              "      <th>Calcium (% Daily Value)</th>\n",
              "      <td>35.571429</td>\n",
              "      <td>28.294737</td>\n",
              "    </tr>\n",
              "    <tr>\n",
              "      <th>Iron (% Daily Value)</th>\n",
              "      <td>3.964286</td>\n",
              "      <td>2.147368</td>\n",
              "    </tr>\n",
              "  </tbody>\n",
              "</table>\n",
              "</div>"
            ],
            "text/plain": [
              "                               SmoothiesContent  Coffee&Tea Content\n",
              "Calories                             531.428571          283.894737\n",
              "Calories from Fat                    127.678571           71.105263\n",
              "Total Fat                             14.125000            8.021053\n",
              "Total Fat (% Daily Value)             21.714286           12.357895\n",
              "Saturated Fat                          8.375000            4.921053\n",
              "Saturated Fat (% Daily Value)         41.785714           24.368421\n",
              "Trans Fat                              0.535714            0.142105\n",
              "Cholesterol                           45.000000           27.263158\n",
              "Cholesterol (% Daily Value)           14.714286            9.378947\n",
              "Sodium                               183.571429          136.894737\n",
              "Sodium (% Daily Value)                 7.785714            5.726316\n",
              "Carbohydrates                         90.428571           44.526316\n",
              "Carbohydrates (% Daily Value)         30.142857           14.863158\n",
              "Dietary Fiber                          1.464286            0.778947\n",
              "Dietary Fiber (% Daily Value)          5.750000            3.178947\n",
              "Sugars                                77.892857           39.610526\n",
              "Protein                               10.857143            8.863158\n",
              "Vitamin A (% Daily Value)             18.750000           10.736842\n",
              "Vitamin C (% Daily Value)              6.964286            0.000000\n",
              "Calcium (% Daily Value)               35.571429           28.294737\n",
              "Iron (% Daily Value)                   3.964286            2.147368"
            ]
          },
          "metadata": {
            "tags": []
          },
          "execution_count": 75
        }
      ]
    },
    {
      "cell_type": "markdown",
      "metadata": {
        "id": "KoZdYpfJk9fC"
      },
      "source": [
        "## **Calories vs Total Fat**"
      ]
    },
    {
      "cell_type": "code",
      "metadata": {
        "colab": {
          "base_uri": "https://localhost:8080/"
        },
        "id": "FwFZHn_Kixnq",
        "outputId": "4fba3045-87ca-47c6-ed75-1a4d52be3a16"
      },
      "source": [
        "#plot the Calories to Total Fat graph inorder to understand the spread over each category\n",
        "sns.scatterplot(data= mcd_menu,x = 'Calories',y = 'Total Fat', hue = 'Category', size=30)"
      ],
      "execution_count": null,
      "outputs": [
        {
          "output_type": "execute_result",
          "data": {
            "text/plain": [
              "<matplotlib.axes._subplots.AxesSubplot at 0x7f448178b050>"
            ]
          },
          "metadata": {
            "tags": []
          },
          "execution_count": 81
        }
      ]
    },
    {
      "cell_type": "code",
      "metadata": {
        "id": "6Uuk87CimWsx"
      },
      "source": [
        "from google.colab import drive\n",
        "drive.mount('/content/drive')"
      ],
      "execution_count": null,
      "outputs": []
    },
    {
      "cell_type": "markdown",
      "metadata": {
        "id": "PQmoFCummOV8"
      },
      "source": [
        "# **PROFILING**"
      ]
    },
    {
      "cell_type": "code",
      "metadata": {
        "colab": {
          "base_uri": "https://localhost:8080/",
          "height": 1000
        },
        "id": "kPRs4XQrnQRi",
        "outputId": "6126ad87-ceb7-4c6e-86a8-52e66dde48fd"
      },
      "source": [
        "!pip install pandas-profiling==2.8.0"
      ],
      "execution_count": null,
      "outputs": [
        {
          "output_type": "stream",
          "text": [
            "Collecting pandas-profiling==2.8.0\n",
            "\u001b[?25l  Downloading https://files.pythonhosted.org/packages/b9/94/ef8ef4517540d13406fcc0b8adfd75336e014242c69bd4162ab46931f36a/pandas_profiling-2.8.0-py2.py3-none-any.whl (259kB)\n",
            "\r\u001b[K     |█▎                              | 10kB 14.8MB/s eta 0:00:01\r\u001b[K     |██▌                             | 20kB 20.2MB/s eta 0:00:01\r\u001b[K     |███▉                            | 30kB 23.6MB/s eta 0:00:01\r\u001b[K     |█████                           | 40kB 15.2MB/s eta 0:00:01\r\u001b[K     |██████▎                         | 51kB 10.2MB/s eta 0:00:01\r\u001b[K     |███████▋                        | 61kB 10.7MB/s eta 0:00:01\r\u001b[K     |████████▉                       | 71kB 11.4MB/s eta 0:00:01\r\u001b[K     |██████████                      | 81kB 11.0MB/s eta 0:00:01\r\u001b[K     |███████████▍                    | 92kB 8.7MB/s eta 0:00:01\r\u001b[K     |████████████▋                   | 102kB 9.3MB/s eta 0:00:01\r\u001b[K     |█████████████▉                  | 112kB 9.3MB/s eta 0:00:01\r\u001b[K     |███████████████▏                | 122kB 9.3MB/s eta 0:00:01\r\u001b[K     |████████████████▍               | 133kB 9.3MB/s eta 0:00:01\r\u001b[K     |█████████████████▋              | 143kB 9.3MB/s eta 0:00:01\r\u001b[K     |███████████████████             | 153kB 9.3MB/s eta 0:00:01\r\u001b[K     |████████████████████▏           | 163kB 9.3MB/s eta 0:00:01\r\u001b[K     |█████████████████████▍          | 174kB 9.3MB/s eta 0:00:01\r\u001b[K     |██████████████████████▊         | 184kB 9.3MB/s eta 0:00:01\r\u001b[K     |████████████████████████        | 194kB 9.3MB/s eta 0:00:01\r\u001b[K     |█████████████████████████▏      | 204kB 9.3MB/s eta 0:00:01\r\u001b[K     |██████████████████████████▌     | 215kB 9.3MB/s eta 0:00:01\r\u001b[K     |███████████████████████████▊    | 225kB 9.3MB/s eta 0:00:01\r\u001b[K     |█████████████████████████████   | 235kB 9.3MB/s eta 0:00:01\r\u001b[K     |██████████████████████████████▎ | 245kB 9.3MB/s eta 0:00:01\r\u001b[K     |███████████████████████████████▌| 256kB 9.3MB/s eta 0:00:01\r\u001b[K     |████████████████████████████████| 266kB 9.3MB/s \n",
            "\u001b[?25hRequirement already satisfied: astropy>=4.0 in /usr/local/lib/python3.7/dist-packages (from pandas-profiling==2.8.0) (4.2)\n",
            "Requirement already satisfied: jinja2>=2.11.1 in /usr/local/lib/python3.7/dist-packages (from pandas-profiling==2.8.0) (2.11.3)\n",
            "Requirement already satisfied: pandas!=1.0.0,!=1.0.1,!=1.0.2,>=0.25.3 in /usr/local/lib/python3.7/dist-packages (from pandas-profiling==2.8.0) (1.1.5)\n",
            "Requirement already satisfied: scipy>=1.4.1 in /usr/local/lib/python3.7/dist-packages (from pandas-profiling==2.8.0) (1.4.1)\n",
            "Collecting phik>=0.9.10\n",
            "\u001b[?25l  Downloading https://files.pythonhosted.org/packages/b7/ce/193e8ddf62d4be643b9b4b20e8e9c63b2f6a20f92778c0410c629f89bdaa/phik-0.11.2.tar.gz (1.1MB)\n",
            "\u001b[K     |████████████████████████████████| 1.1MB 22.9MB/s \n",
            "\u001b[?25hCollecting tqdm>=4.43.0\n",
            "\u001b[?25l  Downloading https://files.pythonhosted.org/packages/f8/3e/2730d0effc282960dbff3cf91599ad0d8f3faedc8e75720fdf224b31ab24/tqdm-4.59.0-py2.py3-none-any.whl (74kB)\n",
            "\u001b[K     |████████████████████████████████| 81kB 4.9MB/s \n",
            "\u001b[?25hRequirement already satisfied: matplotlib>=3.2.0 in /usr/local/lib/python3.7/dist-packages (from pandas-profiling==2.8.0) (3.2.2)\n",
            "Requirement already satisfied: numpy>=1.16.0 in /usr/local/lib/python3.7/dist-packages (from pandas-profiling==2.8.0) (1.19.5)\n",
            "Requirement already satisfied: missingno>=0.4.2 in /usr/local/lib/python3.7/dist-packages (from pandas-profiling==2.8.0) (0.4.2)\n",
            "Requirement already satisfied: requests>=2.23.0 in /usr/local/lib/python3.7/dist-packages (from pandas-profiling==2.8.0) (2.23.0)\n",
            "Collecting htmlmin>=0.1.12\n",
            "  Downloading https://files.pythonhosted.org/packages/b3/e7/fcd59e12169de19f0131ff2812077f964c6b960e7c09804d30a7bf2ab461/htmlmin-0.1.12.tar.gz\n",
            "Collecting confuse>=1.0.0\n",
            "  Downloading https://files.pythonhosted.org/packages/6d/55/b4726d81e5d6509fa3441f770f8a9524612627dc1b2a7d6209d1d20083fe/confuse-1.4.0-py2.py3-none-any.whl\n",
            "Collecting visions[type_image_path]==0.4.4\n",
            "\u001b[?25l  Downloading https://files.pythonhosted.org/packages/4a/03/5a45d542257830cf1d9da2cdc1c0bc6f55a9212937b70fdd6d7031b46d6c/visions-0.4.4-py3-none-any.whl (59kB)\n",
            "\u001b[K     |████████████████████████████████| 61kB 4.2MB/s \n",
            "\u001b[?25hRequirement already satisfied: joblib in /usr/local/lib/python3.7/dist-packages (from pandas-profiling==2.8.0) (1.0.1)\n",
            "Requirement already satisfied: ipywidgets>=7.5.1 in /usr/local/lib/python3.7/dist-packages (from pandas-profiling==2.8.0) (7.6.3)\n",
            "Collecting tangled-up-in-unicode>=0.0.6\n",
            "\u001b[?25l  Downloading https://files.pythonhosted.org/packages/ec/d1/58bfbe263494741a47140049b989ad42a8941854e8d34f1af90640c6c9f9/tangled_up_in_unicode-0.0.7-py3-none-any.whl (3.1MB)\n",
            "\u001b[K     |████████████████████████████████| 3.2MB 29.9MB/s \n",
            "\u001b[?25hRequirement already satisfied: pyerfa in /usr/local/lib/python3.7/dist-packages (from astropy>=4.0->pandas-profiling==2.8.0) (1.7.2)\n",
            "Requirement already satisfied: MarkupSafe>=0.23 in /usr/local/lib/python3.7/dist-packages (from jinja2>=2.11.1->pandas-profiling==2.8.0) (1.1.1)\n",
            "Requirement already satisfied: pytz>=2017.2 in /usr/local/lib/python3.7/dist-packages (from pandas!=1.0.0,!=1.0.1,!=1.0.2,>=0.25.3->pandas-profiling==2.8.0) (2018.9)\n",
            "Requirement already satisfied: python-dateutil>=2.7.3 in /usr/local/lib/python3.7/dist-packages (from pandas!=1.0.0,!=1.0.1,!=1.0.2,>=0.25.3->pandas-profiling==2.8.0) (2.8.1)\n",
            "Requirement already satisfied: cycler>=0.10 in /usr/local/lib/python3.7/dist-packages (from matplotlib>=3.2.0->pandas-profiling==2.8.0) (0.10.0)\n",
            "Requirement already satisfied: kiwisolver>=1.0.1 in /usr/local/lib/python3.7/dist-packages (from matplotlib>=3.2.0->pandas-profiling==2.8.0) (1.3.1)\n",
            "Requirement already satisfied: pyparsing!=2.0.4,!=2.1.2,!=2.1.6,>=2.0.1 in /usr/local/lib/python3.7/dist-packages (from matplotlib>=3.2.0->pandas-profiling==2.8.0) (2.4.7)\n",
            "Requirement already satisfied: seaborn in /usr/local/lib/python3.7/dist-packages (from missingno>=0.4.2->pandas-profiling==2.8.0) (0.11.1)\n",
            "Requirement already satisfied: certifi>=2017.4.17 in /usr/local/lib/python3.7/dist-packages (from requests>=2.23.0->pandas-profiling==2.8.0) (2020.12.5)\n",
            "Requirement already satisfied: urllib3!=1.25.0,!=1.25.1,<1.26,>=1.21.1 in /usr/local/lib/python3.7/dist-packages (from requests>=2.23.0->pandas-profiling==2.8.0) (1.24.3)\n",
            "Requirement already satisfied: chardet<4,>=3.0.2 in /usr/local/lib/python3.7/dist-packages (from requests>=2.23.0->pandas-profiling==2.8.0) (3.0.4)\n",
            "Requirement already satisfied: idna<3,>=2.5 in /usr/local/lib/python3.7/dist-packages (from requests>=2.23.0->pandas-profiling==2.8.0) (2.10)\n",
            "Requirement already satisfied: pyyaml in /usr/local/lib/python3.7/dist-packages (from confuse>=1.0.0->pandas-profiling==2.8.0) (3.13)\n",
            "Requirement already satisfied: attrs>=19.3.0 in /usr/local/lib/python3.7/dist-packages (from visions[type_image_path]==0.4.4->pandas-profiling==2.8.0) (20.3.0)\n",
            "Requirement already satisfied: networkx>=2.4 in /usr/local/lib/python3.7/dist-packages (from visions[type_image_path]==0.4.4->pandas-profiling==2.8.0) (2.5)\n",
            "Requirement already satisfied: Pillow; extra == \"type_image_path\" in /usr/local/lib/python3.7/dist-packages (from visions[type_image_path]==0.4.4->pandas-profiling==2.8.0) (7.1.2)\n",
            "Collecting imagehash; extra == \"type_image_path\"\n",
            "\u001b[?25l  Downloading https://files.pythonhosted.org/packages/8e/18/9dbb772b5ef73a3069c66bb5bf29b9fb4dd57af0d5790c781c3f559bcca6/ImageHash-4.2.0-py2.py3-none-any.whl (295kB)\n",
            "\u001b[K     |████████████████████████████████| 296kB 32.6MB/s \n",
            "\u001b[?25hRequirement already satisfied: widgetsnbextension~=3.5.0 in /usr/local/lib/python3.7/dist-packages (from ipywidgets>=7.5.1->pandas-profiling==2.8.0) (3.5.1)\n",
            "Requirement already satisfied: traitlets>=4.3.1 in /usr/local/lib/python3.7/dist-packages (from ipywidgets>=7.5.1->pandas-profiling==2.8.0) (5.0.5)\n",
            "Requirement already satisfied: jupyterlab-widgets>=1.0.0; python_version >= \"3.6\" in /usr/local/lib/python3.7/dist-packages (from ipywidgets>=7.5.1->pandas-profiling==2.8.0) (1.0.0)\n",
            "Requirement already satisfied: ipykernel>=4.5.1 in /usr/local/lib/python3.7/dist-packages (from ipywidgets>=7.5.1->pandas-profiling==2.8.0) (4.10.1)\n",
            "Requirement already satisfied: ipython>=4.0.0; python_version >= \"3.3\" in /usr/local/lib/python3.7/dist-packages (from ipywidgets>=7.5.1->pandas-profiling==2.8.0) (5.5.0)\n",
            "Requirement already satisfied: nbformat>=4.2.0 in /usr/local/lib/python3.7/dist-packages (from ipywidgets>=7.5.1->pandas-profiling==2.8.0) (5.1.2)\n",
            "Requirement already satisfied: six>=1.5 in /usr/local/lib/python3.7/dist-packages (from python-dateutil>=2.7.3->pandas!=1.0.0,!=1.0.1,!=1.0.2,>=0.25.3->pandas-profiling==2.8.0) (1.15.0)\n",
            "Requirement already satisfied: decorator>=4.3.0 in /usr/local/lib/python3.7/dist-packages (from networkx>=2.4->visions[type_image_path]==0.4.4->pandas-profiling==2.8.0) (4.4.2)\n",
            "Requirement already satisfied: PyWavelets in /usr/local/lib/python3.7/dist-packages (from imagehash; extra == \"type_image_path\"->visions[type_image_path]==0.4.4->pandas-profiling==2.8.0) (1.1.1)\n",
            "Requirement already satisfied: notebook>=4.4.1 in /usr/local/lib/python3.7/dist-packages (from widgetsnbextension~=3.5.0->ipywidgets>=7.5.1->pandas-profiling==2.8.0) (5.3.1)\n",
            "Requirement already satisfied: ipython-genutils in /usr/local/lib/python3.7/dist-packages (from traitlets>=4.3.1->ipywidgets>=7.5.1->pandas-profiling==2.8.0) (0.2.0)\n",
            "Requirement already satisfied: tornado>=4.0 in /usr/local/lib/python3.7/dist-packages (from ipykernel>=4.5.1->ipywidgets>=7.5.1->pandas-profiling==2.8.0) (5.1.1)\n",
            "Requirement already satisfied: jupyter-client in /usr/local/lib/python3.7/dist-packages (from ipykernel>=4.5.1->ipywidgets>=7.5.1->pandas-profiling==2.8.0) (5.3.5)\n",
            "Requirement already satisfied: pygments in /usr/local/lib/python3.7/dist-packages (from ipython>=4.0.0; python_version >= \"3.3\"->ipywidgets>=7.5.1->pandas-profiling==2.8.0) (2.6.1)\n",
            "Requirement already satisfied: setuptools>=18.5 in /usr/local/lib/python3.7/dist-packages (from ipython>=4.0.0; python_version >= \"3.3\"->ipywidgets>=7.5.1->pandas-profiling==2.8.0) (54.2.0)\n",
            "Requirement already satisfied: simplegeneric>0.8 in /usr/local/lib/python3.7/dist-packages (from ipython>=4.0.0; python_version >= \"3.3\"->ipywidgets>=7.5.1->pandas-profiling==2.8.0) (0.8.1)\n",
            "Requirement already satisfied: pexpect; sys_platform != \"win32\" in /usr/local/lib/python3.7/dist-packages (from ipython>=4.0.0; python_version >= \"3.3\"->ipywidgets>=7.5.1->pandas-profiling==2.8.0) (4.8.0)\n",
            "Requirement already satisfied: pickleshare in /usr/local/lib/python3.7/dist-packages (from ipython>=4.0.0; python_version >= \"3.3\"->ipywidgets>=7.5.1->pandas-profiling==2.8.0) (0.7.5)\n",
            "Requirement already satisfied: prompt-toolkit<2.0.0,>=1.0.4 in /usr/local/lib/python3.7/dist-packages (from ipython>=4.0.0; python_version >= \"3.3\"->ipywidgets>=7.5.1->pandas-profiling==2.8.0) (1.0.18)\n",
            "Requirement already satisfied: jsonschema!=2.5.0,>=2.4 in /usr/local/lib/python3.7/dist-packages (from nbformat>=4.2.0->ipywidgets>=7.5.1->pandas-profiling==2.8.0) (2.6.0)\n",
            "Requirement already satisfied: jupyter-core in /usr/local/lib/python3.7/dist-packages (from nbformat>=4.2.0->ipywidgets>=7.5.1->pandas-profiling==2.8.0) (4.7.1)\n",
            "Requirement already satisfied: Send2Trash in /usr/local/lib/python3.7/dist-packages (from notebook>=4.4.1->widgetsnbextension~=3.5.0->ipywidgets>=7.5.1->pandas-profiling==2.8.0) (1.5.0)\n",
            "Requirement already satisfied: terminado>=0.8.1 in /usr/local/lib/python3.7/dist-packages (from notebook>=4.4.1->widgetsnbextension~=3.5.0->ipywidgets>=7.5.1->pandas-profiling==2.8.0) (0.9.3)\n",
            "Requirement already satisfied: nbconvert in /usr/local/lib/python3.7/dist-packages (from notebook>=4.4.1->widgetsnbextension~=3.5.0->ipywidgets>=7.5.1->pandas-profiling==2.8.0) (5.6.1)\n",
            "Requirement already satisfied: pyzmq>=13 in /usr/local/lib/python3.7/dist-packages (from jupyter-client->ipykernel>=4.5.1->ipywidgets>=7.5.1->pandas-profiling==2.8.0) (22.0.3)\n",
            "Requirement already satisfied: ptyprocess>=0.5 in /usr/local/lib/python3.7/dist-packages (from pexpect; sys_platform != \"win32\"->ipython>=4.0.0; python_version >= \"3.3\"->ipywidgets>=7.5.1->pandas-profiling==2.8.0) (0.7.0)\n",
            "Requirement already satisfied: wcwidth in /usr/local/lib/python3.7/dist-packages (from prompt-toolkit<2.0.0,>=1.0.4->ipython>=4.0.0; python_version >= \"3.3\"->ipywidgets>=7.5.1->pandas-profiling==2.8.0) (0.2.5)\n",
            "Requirement already satisfied: pandocfilters>=1.4.1 in /usr/local/lib/python3.7/dist-packages (from nbconvert->notebook>=4.4.1->widgetsnbextension~=3.5.0->ipywidgets>=7.5.1->pandas-profiling==2.8.0) (1.4.3)\n",
            "Requirement already satisfied: entrypoints>=0.2.2 in /usr/local/lib/python3.7/dist-packages (from nbconvert->notebook>=4.4.1->widgetsnbextension~=3.5.0->ipywidgets>=7.5.1->pandas-profiling==2.8.0) (0.3)\n",
            "Requirement already satisfied: testpath in /usr/local/lib/python3.7/dist-packages (from nbconvert->notebook>=4.4.1->widgetsnbextension~=3.5.0->ipywidgets>=7.5.1->pandas-profiling==2.8.0) (0.4.4)\n",
            "Requirement already satisfied: mistune<2,>=0.8.1 in /usr/local/lib/python3.7/dist-packages (from nbconvert->notebook>=4.4.1->widgetsnbextension~=3.5.0->ipywidgets>=7.5.1->pandas-profiling==2.8.0) (0.8.4)\n",
            "Requirement already satisfied: bleach in /usr/local/lib/python3.7/dist-packages (from nbconvert->notebook>=4.4.1->widgetsnbextension~=3.5.0->ipywidgets>=7.5.1->pandas-profiling==2.8.0) (3.3.0)\n",
            "Requirement already satisfied: defusedxml in /usr/local/lib/python3.7/dist-packages (from nbconvert->notebook>=4.4.1->widgetsnbextension~=3.5.0->ipywidgets>=7.5.1->pandas-profiling==2.8.0) (0.7.1)\n",
            "Requirement already satisfied: packaging in /usr/local/lib/python3.7/dist-packages (from bleach->nbconvert->notebook>=4.4.1->widgetsnbextension~=3.5.0->ipywidgets>=7.5.1->pandas-profiling==2.8.0) (20.9)\n",
            "Requirement already satisfied: webencodings in /usr/local/lib/python3.7/dist-packages (from bleach->nbconvert->notebook>=4.4.1->widgetsnbextension~=3.5.0->ipywidgets>=7.5.1->pandas-profiling==2.8.0) (0.5.1)\n",
            "Building wheels for collected packages: phik, htmlmin\n",
            "  Building wheel for phik (setup.py) ... \u001b[?25l\u001b[?25hdone\n",
            "  Created wheel for phik: filename=phik-0.11.2-cp37-none-any.whl size=1107413 sha256=3bf49b80654a5693d01dcb89bd9d348ee18d17d6fd8f30e401900d0eedbfe7f5\n",
            "  Stored in directory: /root/.cache/pip/wheels/c0/a3/b0/f27b1cfe32ea131a3715169132ff6d85653789e80e966c3bf6\n",
            "  Building wheel for htmlmin (setup.py) ... \u001b[?25l\u001b[?25hdone\n",
            "  Created wheel for htmlmin: filename=htmlmin-0.1.12-cp37-none-any.whl size=27085 sha256=f6f8cbdfd736ffbf6222cb79e39e024123b59ec358f40da67e0de8a33eedb70c\n",
            "  Stored in directory: /root/.cache/pip/wheels/43/07/ac/7c5a9d708d65247ac1f94066cf1db075540b85716c30255459\n",
            "Successfully built phik htmlmin\n",
            "\u001b[31mERROR: phik 0.11.2 has requirement scipy>=1.5.2, but you'll have scipy 1.4.1 which is incompatible.\u001b[0m\n",
            "Installing collected packages: phik, tqdm, htmlmin, confuse, tangled-up-in-unicode, imagehash, visions, pandas-profiling\n",
            "  Found existing installation: tqdm 4.41.1\n",
            "    Uninstalling tqdm-4.41.1:\n",
            "      Successfully uninstalled tqdm-4.41.1\n",
            "  Found existing installation: pandas-profiling 1.4.1\n",
            "    Uninstalling pandas-profiling-1.4.1:\n",
            "      Successfully uninstalled pandas-profiling-1.4.1\n",
            "Successfully installed confuse-1.4.0 htmlmin-0.1.12 imagehash-4.2.0 pandas-profiling-2.8.0 phik-0.11.2 tangled-up-in-unicode-0.0.7 tqdm-4.59.0 visions-0.4.4\n"
          ],
          "name": "stdout"
        },
        {
          "output_type": "display_data",
          "data": {
            "application/vnd.colab-display-data+json": {
              "pip_warning": {
                "packages": [
                  "pandas_profiling",
                  "tqdm"
                ]
              }
            }
          },
          "metadata": {
            "tags": []
          }
        }
      ]
    },
    {
      "cell_type": "code",
      "metadata": {
        "colab": {
          "base_uri": "https://localhost:8080/",
          "height": 173,
          "referenced_widgets": [
            "3879cb8ddae24c2fa527a04080d9d778",
            "1877dba193f74ed580959eb76a5687bc",
            "5fe282250fef46a5a02c2b90a1f5d854",
            "ffac3cbbed1845cd99669cbb08fbc3d6",
            "5eec896bc95f45848537c388ce0d15e9",
            "929ee0fcbf054fdb8bb2a16fd4e6ba7b",
            "8f1380f7d67c421a943803bd2e772b10",
            "a33b877b77e7483395be3c31d4f0a279",
            "d43dde98e073471a968b06f50afa8203",
            "16271717fa2f425489a2acc36dddb0df",
            "45675f69ab1c4626bbd110ebe8e01e43",
            "963ee8b401f44e339016fd6b45552336",
            "b5f98660ab3f4848b16d429f5e2cbda5",
            "3700de052eb743d3a28724329ccb5959",
            "ff4370c24337401bb2b83117414fd870",
            "9f3b0662e0fe4192990cc5a8906087a4",
            "4172b1f325e3470787170a44c14de714",
            "9d6aaa164c3d4436a7f5493552ea06ad",
            "99d1f8f27d604a579f96b79a74e2d62e",
            "1ec06cc902c94d779b36cf2e98f38965",
            "dff218e13b164c7992baa7bcf4a9e158",
            "d53261870bc14f4eb36bb66c86a4621a",
            "04ef045cb5294990a0ea6bdc10ba1925",
            "6f04f926f403484dbdeb6b50e1e1486a",
            "76091ee6d7c74f6abc294f684b34a426",
            "1ee677393acb4e75a7d5c946ddcb0d8f",
            "014be6602cc94994b90819434073d2a1",
            "6ffc5d6f07b74631bd49dea25a23b6a5",
            "ed27534cd1fb4bcc9a8f4939d5301525",
            "463db46647f04e8ca55a2510905f99af",
            "18a5f33b34cb4d50be92a45704dda1ad",
            "7dc6b3dd28cf4e16a964ec7ddce84911",
            "788ac5d712b943e5b5441bcd1347cd72",
            "8f62f4ebb00641daaab71806de3b0438",
            "37700065c36142f8b1d2881d7a7a1f4f",
            "e37e85518537494fbf0fc1e1ad976d98",
            "46affc5ee8d94311ac7d12de842b95d1",
            "2c857e821b4c4be6ac4b958403bcb3c3",
            "914b3892e6c94458b3d4d86f8ccdce60",
            "f2e59e2ddd8f4a9aada6b45048a5b387",
            "05889e2c90f1428eb395c24fed6ebd29",
            "0085fd9597f441aca213da1a56b49a58",
            "71bb5880888d45838e163b1dabfc4d8e",
            "382d58e14d41445388ed0fc3cb0dc5bc"
          ]
        },
        "id": "8e_-VK9FmSiJ",
        "outputId": "6cd91c46-3858-4857-8203-fdeedcefbd51"
      },
      "source": [
        "#For exploratory data \n",
        "profile = ProfileReport(mcd_menu)\n",
        "profile.to_file(\"mcd_menu_profiling.html\")"
      ],
      "execution_count": null,
      "outputs": [
        {
          "output_type": "display_data",
          "data": {
            "application/vnd.jupyter.widget-view+json": {
              "model_id": "3879cb8ddae24c2fa527a04080d9d778",
              "version_minor": 0,
              "version_major": 2
            },
            "text/plain": [
              "Summarize dataset:   0%|          | 0/38 [00:00<?, ?it/s]"
            ]
          },
          "metadata": {
            "tags": []
          }
        },
        {
          "output_type": "display_data",
          "data": {
            "application/vnd.jupyter.widget-view+json": {
              "model_id": "963ee8b401f44e339016fd6b45552336",
              "version_minor": 0,
              "version_major": 2
            },
            "text/plain": [
              "Generate report structure:   0%|          | 0/1 [00:00<?, ?it/s]"
            ]
          },
          "metadata": {
            "tags": []
          }
        },
        {
          "output_type": "display_data",
          "data": {
            "application/vnd.jupyter.widget-view+json": {
              "model_id": "04ef045cb5294990a0ea6bdc10ba1925",
              "version_minor": 0,
              "version_major": 2
            },
            "text/plain": [
              "Render HTML:   0%|          | 0/1 [00:00<?, ?it/s]"
            ]
          },
          "metadata": {
            "tags": []
          }
        },
        {
          "output_type": "display_data",
          "data": {
            "application/vnd.jupyter.widget-view+json": {
              "model_id": "8f62f4ebb00641daaab71806de3b0438",
              "version_minor": 0,
              "version_major": 2
            },
            "text/plain": [
              "Export report to file:   0%|          | 0/1 [00:00<?, ?it/s]"
            ]
          },
          "metadata": {
            "tags": []
          }
        }
      ]
    },
    {
      "cell_type": "code",
      "metadata": {
        "id": "8sDbwXf3myEC"
      },
      "source": [
        ""
      ],
      "execution_count": null,
      "outputs": []
    }
  ]
}